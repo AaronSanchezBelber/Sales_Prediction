{
 "cells": [
  {
   "cell_type": "markdown",
   "id": "9fdfa3aa",
   "metadata": {
    "papermill": {
     "duration": 0.018262,
     "end_time": "2022-12-25T18:21:13.031571",
     "exception": false,
     "start_time": "2022-12-25T18:21:13.013309",
     "status": "completed"
    },
    "tags": []
   },
   "source": [
    "### Objetivos del notebook\n",
    "---\n",
    "En el presente notebook vamos a aprender a utilizar el algoritmo de XGBoost para trabajar con Series Temporales.\n",
    "\n",
    "[XGBoost](https://xgboost.readthedocs.io/en/stable/) es una implementación muy popular del [Gradient Boosting](https://interactivechaos.com/es/manual/tutorial-de-machine-learning/gradient-boosting) y se ha convertido **\"de facto\"** en el benchmark a batir para datos tabulares.\n",
    "\n",
    "A pesar de tener sus carencias para problemas de Series Temporales (por ejemplo: no es capaz de extrapolar una tendencia), el algoritmo es muy versátil y todo Data Scientist debe conocerlo. \n",
    "\n",
    "El dataset con el que vamos a trabajar en este notebook contiene alrededor de **300 Series Temporales** que abarcan el periodo Enero'2013 - Septiembre'2015. Por tanto vamos a trabajar con **Series Temporales Multivariante**.\n",
    "\n",
    "Cada una de estas **Series Temporales** representan las ventas <u>**DIARIAS**</u> de **un artículo en un tienda y ciudad**. El objetivo es predecir las <u>**VENTAS TOTALES DEL MES DE OCTUBRE'2015**</u>.\n",
    "\n",
    "Es decir, partimos de ventas diarias y vamos a tener que <u>**agrupar nuestras ventas por mes**</u> antes de crear variables o entrenar el modelo.\n",
    "\n",
    "Al final del notebook, el alumno debe estar familiarizado con:\n",
    "\n",
    "1. **La importancia de establecer un benchmark (CORE IDEA)** cuando empezamos a trabajar en un problema de Machine Learning. <br>\n",
    "2. Realizar el **análisis exploratorio de datos (EDA)** para conocer el dataset. <br>\n",
    "3. Saber utilizar **pandas de forma eficiente para manipular el dataset (resample de pandas, groupby etc).** <br>\n",
    "4. **Combinar la información de diferentes Series Temporales para generar variables (ventas totales de un artículo, ventas totales de todos los artículos en una tienda) con las que alimentar nuestro modelo XGBoost (CORE IDEA).**<br>\n",
    "5. **Saber identificar las variables autoexplicativas (COREA IDEA)** y sus principales causas.<br>\n",
    "6. Comprender **la importancia de iterar rápido (realizar muchos experimentos) (CORE IDEA)** para testear diferentes hipótesis y variables que se construyen.\n",
    "7. Aprender a hacer el **submit a Kaggle.**\n",
    "\n",
    "---\n",
    "\n",
    "El presente notebook contiene muchas funcionalidades avanzadas que puede requerir varias lecturas para su comprensión.\n",
    "Pensamos que las secciones marcadas con **CORE IDEA** son las que mayor beneficio le reportarán al alumno. Por este motivo, le animamos a que dedique especial atención a estas ideas.\n",
    "\n",
    "Al final del notebook, hay un sección de referencias y lecturas recomendables para que el alumno pueda seguir profundizando en estos conceptos.\n",
    "\n",
    "---"
   ]
  },
  {
   "cell_type": "markdown",
   "id": "5ee805a5",
   "metadata": {
    "papermill": {
     "duration": 0.016343,
     "end_time": "2022-12-25T18:21:13.064692",
     "exception": false,
     "start_time": "2022-12-25T18:21:13.048349",
     "status": "completed"
    },
    "tags": []
   },
   "source": [
    "### Índice\n",
    "<a id='index'></a>\n",
    "\n",
    "[Imports del notebook](#imports_notebook)<br>\n",
    "[Helpers Time Series](#helpers)<br>\n",
    "[Data Loading](#data_load)<br>\n",
    "[La idea del Benchmark (**CORE IDEA**)](#benchmark)<br>\n",
    "[Agrupación de las ventas por mes (**CORE IDEA**)](#monthly_agg)<br>\n",
    "[Data Imputation](#impute)<br>\n",
    "[EDA](#eda)<br>\n",
    "[--> 1. EDA: Global Sales](#eda_global_sales)<br>\n",
    "[--> 2. EDA: Top 3 Cities](#eda_top_3_cities)<br>\n",
    "[--> 3. EDA: Top 3 Categories](#eda_top_3_categories)<br>\n",
    "[Build Time Series Features (**CORE IDEA**)](#build_ts_features)<br>\n",
    "[Join TS Features](#join_ts_features)<br>\n",
    "[Train Test Split](#train_test_split)<br>\n",
    "[Model Train](#model_train)<br>\n",
    "[Model Evaluation (**COREA IDEA**)](#model_evaluation)<br>\n",
    "[Prediction](#prediction)<br>\n",
    "\n",
    "### Conclusión\n",
    "[Conclusión](#conclusion)<br>\n",
    "\n",
    "### Referencias\n",
    "[Referencias y lecturas recomendables](#referencias)<br>"
   ]
  },
  {
   "cell_type": "markdown",
   "id": "bbf4dee1",
   "metadata": {
    "papermill": {
     "duration": 0.016159,
     "end_time": "2022-12-25T18:21:13.097766",
     "exception": false,
     "start_time": "2022-12-25T18:21:13.081607",
     "status": "completed"
    },
    "tags": []
   },
   "source": [
    "<a id='imports_notebook'></a>\n",
    "### Imports del notebook\n",
    "[Volver al índice](#index)\n",
    "\n",
    "En este apartado hacemos los principales imports del notebook.<br>\n",
    "Sobre todo vamos a trabajar con **numpy**, **pandas**, **statsmodels** y **XGBoost**."
   ]
  },
  {
   "cell_type": "code",
   "execution_count": 1,
   "id": "707e81f5",
   "metadata": {
    "execution": {
     "iopub.execute_input": "2022-12-25T18:21:13.133191Z",
     "iopub.status.busy": "2022-12-25T18:21:13.132402Z",
     "iopub.status.idle": "2022-12-25T18:21:14.327960Z",
     "shell.execute_reply": "2022-12-25T18:21:14.326955Z"
    },
    "papermill": {
     "duration": 1.216477,
     "end_time": "2022-12-25T18:21:14.330740",
     "exception": false,
     "start_time": "2022-12-25T18:21:13.114263",
     "status": "completed"
    },
    "tags": []
   },
   "outputs": [],
   "source": [
    "import pickle\n",
    "import os\n",
    "\n",
    "from datetime import datetime\n",
    "import pandas as pd\n",
    "import numpy as np\n",
    "\n",
    "import matplotlib.pyplot as plt\n",
    "%matplotlib inline\n",
    "\n",
    "from sklearn.metrics import mean_squared_error\n",
    "from sklearn.preprocessing import OrdinalEncoder\n",
    "\n",
    "import xgboost as xgb\n",
    "\n",
    "from statsmodels.graphics.tsaplots import plot_acf, plot_pacf"
   ]
  },
  {
   "cell_type": "code",
   "execution_count": 2,
   "id": "97219cf7",
   "metadata": {
    "execution": {
     "iopub.execute_input": "2022-12-25T18:21:14.369241Z",
     "iopub.status.busy": "2022-12-25T18:21:14.368501Z",
     "iopub.status.idle": "2022-12-25T18:21:14.374207Z",
     "shell.execute_reply": "2022-12-25T18:21:14.373416Z"
    },
    "papermill": {
     "duration": 0.026616,
     "end_time": "2022-12-25T18:21:14.377081",
     "exception": false,
     "start_time": "2022-12-25T18:21:14.350465",
     "status": "completed"
    },
    "tags": []
   },
   "outputs": [
    {
     "name": "stdout",
     "output_type": "stream",
     "text": [
      "Working with these versions of libraries\n",
      "\n",
      "Numpy version 1.21.6\n",
      "Pandas version 1.3.5\n",
      "XGBoost version 1.6.2\n"
     ]
    }
   ],
   "source": [
    "print(\"Working with these versions of libraries\\n\")\n",
    "print(f\"Numpy version {np.__version__}\")\n",
    "print(f\"Pandas version {pd.__version__}\")\n",
    "print(f\"XGBoost version {xgb.__version__}\")"
   ]
  },
  {
   "cell_type": "code",
   "execution_count": 3,
   "id": "a250f195",
   "metadata": {
    "execution": {
     "iopub.execute_input": "2022-12-25T18:21:14.412091Z",
     "iopub.status.busy": "2022-12-25T18:21:14.411655Z",
     "iopub.status.idle": "2022-12-25T18:21:14.417921Z",
     "shell.execute_reply": "2022-12-25T18:21:14.416743Z"
    },
    "papermill": {
     "duration": 0.026513,
     "end_time": "2022-12-25T18:21:14.420213",
     "exception": false,
     "start_time": "2022-12-25T18:21:14.393700",
     "status": "completed"
    },
    "tags": []
   },
   "outputs": [],
   "source": [
    "# GLOBAL_VARIABLES\n",
    "DATA_PATH = \"/kaggle/input/nuclio14-dsc-0922\"\n",
    "\n",
    "TRAIN_CSV_PATH = os.path.join(DATA_PATH, \"sales_train_merged.csv\")\n",
    "\n",
    "ORDER_COLUMNS = [\n",
    "    'DATE',\n",
    "    'UNIQUE_ID',\n",
    "    'CITY_NAME',\n",
    "    'CITY_ID',\n",
    "    'SHOP_NAME',\n",
    "    'SHOP_ID',\n",
    "    'ITEM_CATEGORY_NAME',\n",
    "    'ITEM_CATEGORY_ID',\n",
    "    'ITEM_NAME',\n",
    "    'ITEM_ID',\n",
    "    'ITEM_PRICE',\n",
    "    'SALES'\n",
    "]"
   ]
  },
  {
   "cell_type": "markdown",
   "id": "359e967c",
   "metadata": {
    "papermill": {
     "duration": 0.016171,
     "end_time": "2022-12-25T18:21:14.453025",
     "exception": false,
     "start_time": "2022-12-25T18:21:14.436854",
     "status": "completed"
    },
    "tags": []
   },
   "source": [
    "<a id='helpers'></a>\n",
    "### Helpers Time Series\n",
    "[Volver al índice](#index)\n",
    "\n",
    "En este apartado definimos varias funciones auxiliares que utilizaremos a lo largo del notebook."
   ]
  },
  {
   "cell_type": "code",
   "execution_count": 4,
   "id": "15d1165a",
   "metadata": {
    "execution": {
     "iopub.execute_input": "2022-12-25T18:21:14.487782Z",
     "iopub.status.busy": "2022-12-25T18:21:14.487369Z",
     "iopub.status.idle": "2022-12-25T18:21:14.492899Z",
     "shell.execute_reply": "2022-12-25T18:21:14.492042Z"
    },
    "papermill": {
     "duration": 0.025396,
     "end_time": "2022-12-25T18:21:14.494930",
     "exception": false,
     "start_time": "2022-12-25T18:21:14.469534",
     "status": "completed"
    },
    "tags": []
   },
   "outputs": [],
   "source": [
    "def load_data(path_data_file):\n",
    "    '''\n",
    "    Loads the csv file for training.\n",
    "    '''\n",
    "    df = pd.read_csv(path_data_file, index_col = 0)\n",
    "    \n",
    "    df = preprocess_df(df)\n",
    "    \n",
    "    return df"
   ]
  },
  {
   "cell_type": "code",
   "execution_count": 5,
   "id": "706de171",
   "metadata": {
    "execution": {
     "iopub.execute_input": "2022-12-25T18:21:14.530209Z",
     "iopub.status.busy": "2022-12-25T18:21:14.529384Z",
     "iopub.status.idle": "2022-12-25T18:21:14.536355Z",
     "shell.execute_reply": "2022-12-25T18:21:14.535405Z"
    },
    "papermill": {
     "duration": 0.026811,
     "end_time": "2022-12-25T18:21:14.538379",
     "exception": false,
     "start_time": "2022-12-25T18:21:14.511568",
     "status": "completed"
    },
    "tags": []
   },
   "outputs": [],
   "source": [
    "def preprocess_df(df):\n",
    "    '''\n",
    "    Preprocess df: upper columns, str date to datetime etc.\n",
    "    '''\n",
    "    df.columns = map(str.upper, df.columns)\n",
    "    df[\"DATE\"] = pd.to_datetime(df[\"DATE\"], format = \"%Y-%m-%d\")\n",
    "    \n",
    "    df[\"CITY_ID\"] = OrdinalEncoder().fit_transform(df[[\"CITY\"]])\n",
    "    \n",
    "    df.rename(columns = {\"CITY\":\"CITY_NAME\", \"ITEM_CNT_DAY\":\"SALES\"}, inplace = True)\n",
    "    df = df[ORDER_COLUMNS]\n",
    "    \n",
    "    return df"
   ]
  },
  {
   "cell_type": "markdown",
   "id": "30253d6d",
   "metadata": {
    "papermill": {
     "duration": 0.016465,
     "end_time": "2022-12-25T18:21:14.571678",
     "exception": false,
     "start_time": "2022-12-25T18:21:14.555213",
     "status": "completed"
    },
    "tags": []
   },
   "source": [
    "<a id='data_load'></a>\n",
    "### Data Loading\n",
    "[Volver al índice](#index)\n",
    "\n",
    "Vamos a cargar nuestro dataset para comÇenzar con el EDA."
   ]
  },
  {
   "cell_type": "code",
   "execution_count": 6,
   "id": "fd354680",
   "metadata": {
    "execution": {
     "iopub.execute_input": "2022-12-25T18:21:14.607033Z",
     "iopub.status.busy": "2022-12-25T18:21:14.606316Z",
     "iopub.status.idle": "2022-12-25T18:21:15.109913Z",
     "shell.execute_reply": "2022-12-25T18:21:15.108842Z"
    },
    "papermill": {
     "duration": 0.524399,
     "end_time": "2022-12-25T18:21:15.112681",
     "exception": false,
     "start_time": "2022-12-25T18:21:14.588282",
     "status": "completed"
    },
    "tags": []
   },
   "outputs": [
    {
     "data": {
      "text/html": [
       "<div>\n",
       "<style scoped>\n",
       "    .dataframe tbody tr th:only-of-type {\n",
       "        vertical-align: middle;\n",
       "    }\n",
       "\n",
       "    .dataframe tbody tr th {\n",
       "        vertical-align: top;\n",
       "    }\n",
       "\n",
       "    .dataframe thead th {\n",
       "        text-align: right;\n",
       "    }\n",
       "</style>\n",
       "<table border=\"1\" class=\"dataframe\">\n",
       "  <thead>\n",
       "    <tr style=\"text-align: right;\">\n",
       "      <th></th>\n",
       "      <th>DATE</th>\n",
       "      <th>UNIQUE_ID</th>\n",
       "      <th>CITY_NAME</th>\n",
       "      <th>CITY_ID</th>\n",
       "      <th>SHOP_NAME</th>\n",
       "      <th>SHOP_ID</th>\n",
       "      <th>ITEM_CATEGORY_NAME</th>\n",
       "      <th>ITEM_CATEGORY_ID</th>\n",
       "      <th>ITEM_NAME</th>\n",
       "      <th>ITEM_ID</th>\n",
       "      <th>ITEM_PRICE</th>\n",
       "      <th>SALES</th>\n",
       "    </tr>\n",
       "  </thead>\n",
       "  <tbody>\n",
       "    <tr>\n",
       "      <th>31046</th>\n",
       "      <td>2014-02-01</td>\n",
       "      <td>6-5822</td>\n",
       "      <td>Voronezh</td>\n",
       "      <td>22.0</td>\n",
       "      <td>Voronezh (Plekhanovskaya, 13)</td>\n",
       "      <td>6</td>\n",
       "      <td>Las tarjetas de pago - PSN</td>\n",
       "      <td>35</td>\n",
       "      <td>PlayStation Tienda Reposición de la billetera:...</td>\n",
       "      <td>5822</td>\n",
       "      <td>1049.00</td>\n",
       "      <td>1.0</td>\n",
       "    </tr>\n",
       "    <tr>\n",
       "      <th>64440</th>\n",
       "      <td>2015-01-30</td>\n",
       "      <td>12-11373</td>\n",
       "      <td>Tienda Online</td>\n",
       "      <td>16.0</td>\n",
       "      <td>La tienda en línea Emergencias</td>\n",
       "      <td>12</td>\n",
       "      <td>Entrega de bienes</td>\n",
       "      <td>9</td>\n",
       "      <td>Entrega a emisión (Boxberry)</td>\n",
       "      <td>11373</td>\n",
       "      <td>83.75</td>\n",
       "      <td>4.0</td>\n",
       "    </tr>\n",
       "    <tr>\n",
       "      <th>70664</th>\n",
       "      <td>2015-02-14</td>\n",
       "      <td>25-5822</td>\n",
       "      <td>Moscú</td>\n",
       "      <td>7.0</td>\n",
       "      <td>Moscú SEC \"Atrium\"</td>\n",
       "      <td>25</td>\n",
       "      <td>Las tarjetas de pago - PSN</td>\n",
       "      <td>35</td>\n",
       "      <td>PlayStation Tienda Reposición de la billetera:...</td>\n",
       "      <td>5822</td>\n",
       "      <td>1049.00</td>\n",
       "      <td>1.0</td>\n",
       "    </tr>\n",
       "    <tr>\n",
       "      <th>38166</th>\n",
       "      <td>2014-04-18</td>\n",
       "      <td>28-21404</td>\n",
       "      <td>Moscú</td>\n",
       "      <td>7.0</td>\n",
       "      <td>centro comercial de Moscú \"MEGA Teply Stan\" II</td>\n",
       "      <td>28</td>\n",
       "      <td>Película - DVD</td>\n",
       "      <td>40</td>\n",
       "      <td>Corazón frío m / f (región)</td>\n",
       "      <td>21404</td>\n",
       "      <td>399.00</td>\n",
       "      <td>3.0</td>\n",
       "    </tr>\n",
       "    <tr>\n",
       "      <th>54855</th>\n",
       "      <td>2014-10-24</td>\n",
       "      <td>15-4178</td>\n",
       "      <td>Kaluga</td>\n",
       "      <td>2.0</td>\n",
       "      <td>Kaluga SEC \"Siglo XXI\"</td>\n",
       "      <td>15</td>\n",
       "      <td>Programa - Para el hogar y la oficina</td>\n",
       "      <td>75</td>\n",
       "      <td>Kaspersky Internet Security Multi-Device Edici...</td>\n",
       "      <td>4178</td>\n",
       "      <td>1590.00</td>\n",
       "      <td>1.0</td>\n",
       "    </tr>\n",
       "  </tbody>\n",
       "</table>\n",
       "</div>"
      ],
      "text/plain": [
       "            DATE UNIQUE_ID      CITY_NAME  CITY_ID  \\\n",
       "31046 2014-02-01    6-5822       Voronezh     22.0   \n",
       "64440 2015-01-30  12-11373  Tienda Online     16.0   \n",
       "70664 2015-02-14   25-5822          Moscú      7.0   \n",
       "38166 2014-04-18  28-21404          Moscú      7.0   \n",
       "54855 2014-10-24   15-4178         Kaluga      2.0   \n",
       "\n",
       "                                            SHOP_NAME  SHOP_ID  \\\n",
       "31046                   Voronezh (Plekhanovskaya, 13)        6   \n",
       "64440                  La tienda en línea Emergencias       12   \n",
       "70664                              Moscú SEC \"Atrium\"       25   \n",
       "38166  centro comercial de Moscú \"MEGA Teply Stan\" II       28   \n",
       "54855                          Kaluga SEC \"Siglo XXI\"       15   \n",
       "\n",
       "                          ITEM_CATEGORY_NAME  ITEM_CATEGORY_ID  \\\n",
       "31046             Las tarjetas de pago - PSN                35   \n",
       "64440                      Entrega de bienes                 9   \n",
       "70664             Las tarjetas de pago - PSN                35   \n",
       "38166                         Película - DVD                40   \n",
       "54855  Programa - Para el hogar y la oficina                75   \n",
       "\n",
       "                                               ITEM_NAME  ITEM_ID  ITEM_PRICE  \\\n",
       "31046  PlayStation Tienda Reposición de la billetera:...     5822     1049.00   \n",
       "64440                       Entrega a emisión (Boxberry)    11373       83.75   \n",
       "70664  PlayStation Tienda Reposición de la billetera:...     5822     1049.00   \n",
       "38166                        Corazón frío m / f (región)    21404      399.00   \n",
       "54855  Kaspersky Internet Security Multi-Device Edici...     4178     1590.00   \n",
       "\n",
       "       SALES  \n",
       "31046    1.0  \n",
       "64440    4.0  \n",
       "70664    1.0  \n",
       "38166    3.0  \n",
       "54855    1.0  "
      ]
     },
     "execution_count": 6,
     "metadata": {},
     "output_type": "execute_result"
    }
   ],
   "source": [
    "df = load_data(path_data_file = TRAIN_CSV_PATH)\n",
    "df.sample(5)"
   ]
  },
  {
   "cell_type": "markdown",
   "id": "6702832f",
   "metadata": {
    "papermill": {
     "duration": 0.016484,
     "end_time": "2022-12-25T18:21:15.146194",
     "exception": false,
     "start_time": "2022-12-25T18:21:15.129710",
     "status": "completed"
    },
    "tags": []
   },
   "source": [
    "Vamos a ver que tipo de datos tenemos en nuestro dataset."
   ]
  },
  {
   "cell_type": "code",
   "execution_count": 7,
   "id": "2a262ea8",
   "metadata": {
    "execution": {
     "iopub.execute_input": "2022-12-25T18:21:15.181696Z",
     "iopub.status.busy": "2022-12-25T18:21:15.181331Z",
     "iopub.status.idle": "2022-12-25T18:21:15.218402Z",
     "shell.execute_reply": "2022-12-25T18:21:15.217195Z"
    },
    "papermill": {
     "duration": 0.057916,
     "end_time": "2022-12-25T18:21:15.221101",
     "exception": false,
     "start_time": "2022-12-25T18:21:15.163185",
     "status": "completed"
    },
    "tags": []
   },
   "outputs": [
    {
     "name": "stdout",
     "output_type": "stream",
     "text": [
      "<class 'pandas.core.frame.DataFrame'>\n",
      "Int64Index: 87963 entries, 0 to 87962\n",
      "Data columns (total 12 columns):\n",
      " #   Column              Non-Null Count  Dtype         \n",
      "---  ------              --------------  -----         \n",
      " 0   DATE                87963 non-null  datetime64[ns]\n",
      " 1   UNIQUE_ID           87963 non-null  object        \n",
      " 2   CITY_NAME           87963 non-null  object        \n",
      " 3   CITY_ID             87963 non-null  float64       \n",
      " 4   SHOP_NAME           87963 non-null  object        \n",
      " 5   SHOP_ID             87963 non-null  int64         \n",
      " 6   ITEM_CATEGORY_NAME  87963 non-null  object        \n",
      " 7   ITEM_CATEGORY_ID    87963 non-null  int64         \n",
      " 8   ITEM_NAME           87963 non-null  object        \n",
      " 9   ITEM_ID             87963 non-null  int64         \n",
      " 10  ITEM_PRICE          87963 non-null  float64       \n",
      " 11  SALES               87963 non-null  float64       \n",
      "dtypes: datetime64[ns](1), float64(3), int64(3), object(5)\n",
      "memory usage: 8.7+ MB\n"
     ]
    }
   ],
   "source": [
    "df.info()"
   ]
  },
  {
   "cell_type": "markdown",
   "id": "e47f8dae",
   "metadata": {
    "papermill": {
     "duration": 0.016638,
     "end_time": "2022-12-25T18:21:15.254702",
     "exception": false,
     "start_time": "2022-12-25T18:21:15.238064",
     "status": "completed"
    },
    "tags": []
   },
   "source": [
    "<a id='benchmark'></a>\n",
    "### La idea del Benchmark (CORE IDEA)\n",
    "[Volver al índice](#index)"
   ]
  },
  {
   "cell_type": "markdown",
   "id": "24ffecbf",
   "metadata": {
    "papermill": {
     "duration": 0.016615,
     "end_time": "2022-12-25T18:21:15.288404",
     "exception": false,
     "start_time": "2022-12-25T18:21:15.271789",
     "status": "completed"
    },
    "tags": []
   },
   "source": [
    "En el presente notebook buscamos establecer un benchmark rápido. \n",
    "\n",
    "El motivo fundamental es porque los datasets en la vida real son muy complejos y no tenemos el \"lujo\" de poder analizar todas y cada una de las variables <u>**ANTES DE ENTRENAR NUESTRO PRIMER MODELO.</u>**\n",
    "\n",
    "Establecer un benchmark nos ayuda a entender cual es el punto de partida, es decir: <u>**cual es el score mínimo para este dataset.**</u>\n",
    "\n",
    "Muchas veces este benchmark puede ser un modelo entrenado con 5 columnas númericas (imputando los nulos con la media). <u>**No se trata de tener el mejor modelo sino de entrenar el primer modelo.**</u> \n",
    "\n",
    "Una vez sabemos cual es el punto de partida y tenemos un notebook **\"funcional\"** podemos empezar a experimentar con nuestro dataset. Por \"notebook funcional\" entendemos un script/notebook que podemos ejecutar en su totalidad (loading del dataset, preprocessing, train_test_split, train y predict). En cada experimento iremos añadiendo nuevas variables, diferentes imputaciones, modelos y vamos guardando el score que obtenemos. De este manera, podemos ver la contribución de cada variables y comprobar si estamos mejorando o no respecto al benchmark.\n",
    "\n",
    "Dado que este notebook es un benchmark, tenemos que **\"acotar\"** muy bien las cosas que vamos a implementar (para no irnos por las ramas).\n",
    "\n",
    "A **grosso modo** vamos a hacer las siguientes cosas:\n",
    "\n",
    "1. Ver cuantas Series Temporales tenemos en el dataset.\n",
    "2. Hacer un check de si tenemos todas las fechas históricas en el dataset.\n",
    "3. Generar las fechas que puedan estar missing.\n",
    "4. Tratar los nulos.\n",
    "5. Crear algunas variables rápidas para el entrenamiento.\n",
    "6. Entrenar el algoritmo.\n",
    "7. Evaluar el modelo.\n",
    "8. Hacer el submit.\n",
    "\n",
    "Empecemos:"
   ]
  },
  {
   "cell_type": "markdown",
   "id": "f478f852",
   "metadata": {
    "execution": {
     "iopub.execute_input": "2022-12-22T22:32:00.326712Z",
     "iopub.status.busy": "2022-12-22T22:32:00.326289Z",
     "iopub.status.idle": "2022-12-22T22:32:00.341842Z",
     "shell.execute_reply": "2022-12-22T22:32:00.340543Z",
     "shell.execute_reply.started": "2022-12-22T22:32:00.326673Z"
    },
    "papermill": {
     "duration": 0.016523,
     "end_time": "2022-12-25T18:21:15.321776",
     "exception": false,
     "start_time": "2022-12-25T18:21:15.305253",
     "status": "completed"
    },
    "tags": []
   },
   "source": [
    "Tenemos un total de 299 Series Temporales en el dataset:"
   ]
  },
  {
   "cell_type": "code",
   "execution_count": 8,
   "id": "64638d2b",
   "metadata": {
    "execution": {
     "iopub.execute_input": "2022-12-25T18:21:15.357311Z",
     "iopub.status.busy": "2022-12-25T18:21:15.356920Z",
     "iopub.status.idle": "2022-12-25T18:21:15.369865Z",
     "shell.execute_reply": "2022-12-25T18:21:15.369027Z"
    },
    "papermill": {
     "duration": 0.033397,
     "end_time": "2022-12-25T18:21:15.372007",
     "exception": false,
     "start_time": "2022-12-25T18:21:15.338610",
     "status": "completed"
    },
    "tags": []
   },
   "outputs": [
    {
     "data": {
      "text/plain": [
       "299"
      ]
     },
     "execution_count": 8,
     "metadata": {},
     "output_type": "execute_result"
    }
   ],
   "source": [
    "df[\"UNIQUE_ID\"].nunique()"
   ]
  },
  {
   "cell_type": "markdown",
   "id": "8b4608a8",
   "metadata": {
    "papermill": {
     "duration": 0.016732,
     "end_time": "2022-12-25T18:21:15.405908",
     "exception": false,
     "start_time": "2022-12-25T18:21:15.389176",
     "status": "completed"
    },
    "tags": []
   },
   "source": [
    "Veamos cuales son las fechas min y max de nuestro dataset:"
   ]
  },
  {
   "cell_type": "code",
   "execution_count": 9,
   "id": "41e5fa23",
   "metadata": {
    "execution": {
     "iopub.execute_input": "2022-12-25T18:21:15.446890Z",
     "iopub.status.busy": "2022-12-25T18:21:15.446139Z",
     "iopub.status.idle": "2022-12-25T18:21:15.452067Z",
     "shell.execute_reply": "2022-12-25T18:21:15.451154Z"
    },
    "papermill": {
     "duration": 0.029077,
     "end_time": "2022-12-25T18:21:15.454358",
     "exception": false,
     "start_time": "2022-12-25T18:21:15.425281",
     "status": "completed"
    },
    "tags": []
   },
   "outputs": [],
   "source": [
    "MIN_DATE = df[\"DATE\"].min()\n",
    "MAX_DATE = df[\"DATE\"].max()"
   ]
  },
  {
   "cell_type": "code",
   "execution_count": 10,
   "id": "300bd8a9",
   "metadata": {
    "execution": {
     "iopub.execute_input": "2022-12-25T18:21:15.504473Z",
     "iopub.status.busy": "2022-12-25T18:21:15.503672Z",
     "iopub.status.idle": "2022-12-25T18:21:15.511147Z",
     "shell.execute_reply": "2022-12-25T18:21:15.509356Z"
    },
    "papermill": {
     "duration": 0.03653,
     "end_time": "2022-12-25T18:21:15.513883",
     "exception": false,
     "start_time": "2022-12-25T18:21:15.477353",
     "status": "completed"
    },
    "tags": []
   },
   "outputs": [
    {
     "name": "stdout",
     "output_type": "stream",
     "text": [
      "Min date is 2013-01-01 00:00:00\n",
      "Max date is 2015-09-30 00:00:00\n"
     ]
    }
   ],
   "source": [
    "print(f\"Min date is {MIN_DATE}\\nMax date is {MAX_DATE}\")"
   ]
  },
  {
   "cell_type": "markdown",
   "id": "e783e74b",
   "metadata": {
    "papermill": {
     "duration": 0.02061,
     "end_time": "2022-12-25T18:21:15.552717",
     "exception": false,
     "start_time": "2022-12-25T18:21:15.532107",
     "status": "completed"
    },
    "tags": []
   },
   "source": [
    "<a id='monthly_agg'></a>\n",
    "### Agrupación de las ventas por mes\n",
    "[Volver al índice](#index)"
   ]
  },
  {
   "cell_type": "markdown",
   "id": "8783bb7c",
   "metadata": {
    "papermill": {
     "duration": 0.017731,
     "end_time": "2022-12-25T18:21:15.589032",
     "exception": false,
     "start_time": "2022-12-25T18:21:15.571301",
     "status": "completed"
    },
    "tags": []
   },
   "source": [
    "En esta competición nos piden que hagamos el predict de las ventas totales del mes de Octubre'2015 para cada ITEM_ID y SHOP_ID.\n",
    "\n",
    "No obstante, si miramos el dataset con detenimiento, veremos que las ventas reportadas vienen por día. Ahora mismo tenemos 2 opciones: \n",
    "\n",
    "1. Podemos entrenar un modelo con las ventas diarias, predecir 30 días y luego sumar las 30 predicciones y obtener el valor para Octubre'2015.\n",
    "2. Agrupar las ventas por mes, entrenar un modelo con las ventas mensuales y hacer 1 predict (mes de Octubre'2015).\n",
    "\n",
    "Claramente la segunda opción es mucho más sencilla, por este motivo vamos a seguir este enfoque.\n",
    "\n",
    "Nota: Si observamos bien, UNIQUE_ID = SHOP_ID + ITEM_ID."
   ]
  },
  {
   "cell_type": "code",
   "execution_count": 11,
   "id": "5966571b",
   "metadata": {
    "execution": {
     "iopub.execute_input": "2022-12-25T18:21:15.625846Z",
     "iopub.status.busy": "2022-12-25T18:21:15.625041Z",
     "iopub.status.idle": "2022-12-25T18:21:15.646713Z",
     "shell.execute_reply": "2022-12-25T18:21:15.645581Z"
    },
    "papermill": {
     "duration": 0.042742,
     "end_time": "2022-12-25T18:21:15.649130",
     "exception": false,
     "start_time": "2022-12-25T18:21:15.606388",
     "status": "completed"
    },
    "tags": []
   },
   "outputs": [
    {
     "data": {
      "text/html": [
       "<div>\n",
       "<style scoped>\n",
       "    .dataframe tbody tr th:only-of-type {\n",
       "        vertical-align: middle;\n",
       "    }\n",
       "\n",
       "    .dataframe tbody tr th {\n",
       "        vertical-align: top;\n",
       "    }\n",
       "\n",
       "    .dataframe thead th {\n",
       "        text-align: right;\n",
       "    }\n",
       "</style>\n",
       "<table border=\"1\" class=\"dataframe\">\n",
       "  <thead>\n",
       "    <tr style=\"text-align: right;\">\n",
       "      <th></th>\n",
       "      <th>DATE</th>\n",
       "      <th>UNIQUE_ID</th>\n",
       "      <th>CITY_NAME</th>\n",
       "      <th>CITY_ID</th>\n",
       "      <th>SHOP_NAME</th>\n",
       "      <th>SHOP_ID</th>\n",
       "      <th>ITEM_CATEGORY_NAME</th>\n",
       "      <th>ITEM_CATEGORY_ID</th>\n",
       "      <th>ITEM_NAME</th>\n",
       "      <th>ITEM_ID</th>\n",
       "      <th>ITEM_PRICE</th>\n",
       "      <th>SALES</th>\n",
       "    </tr>\n",
       "  </thead>\n",
       "  <tbody>\n",
       "    <tr>\n",
       "      <th>48221</th>\n",
       "      <td>2014-08-02</td>\n",
       "      <td>53-3734</td>\n",
       "      <td>Ufa</td>\n",
       "      <td>19.0</td>\n",
       "      <td>Ufa TC \"familia\" 2</td>\n",
       "      <td>53</td>\n",
       "      <td>Juegos - XBOX 360</td>\n",
       "      <td>23</td>\n",
       "      <td>Grand Theft Auto V [Xbox 360, subtítulos rusos]</td>\n",
       "      <td>3734</td>\n",
       "      <td>2599.0</td>\n",
       "      <td>1.0</td>\n",
       "    </tr>\n",
       "    <tr>\n",
       "      <th>20953</th>\n",
       "      <td>2013-11-12</td>\n",
       "      <td>15-2808</td>\n",
       "      <td>Kaluga</td>\n",
       "      <td>2.0</td>\n",
       "      <td>Kaluga SEC \"Siglo XXI\"</td>\n",
       "      <td>15</td>\n",
       "      <td>Juegos PC - Standard Edition</td>\n",
       "      <td>30</td>\n",
       "      <td>Diablo III [PC, JEWEL, versión rusa]</td>\n",
       "      <td>2808</td>\n",
       "      <td>999.0</td>\n",
       "      <td>2.0</td>\n",
       "    </tr>\n",
       "    <tr>\n",
       "      <th>82407</th>\n",
       "      <td>2015-07-28</td>\n",
       "      <td>19-4181</td>\n",
       "      <td>Kursk</td>\n",
       "      <td>6.0</td>\n",
       "      <td>Kursk TC \"Pushkin\"</td>\n",
       "      <td>19</td>\n",
       "      <td>Programa - Para el hogar y la oficina</td>\n",
       "      <td>75</td>\n",
       "      <td>Kaspersky Internet Security Multi-Device Edici...</td>\n",
       "      <td>4181</td>\n",
       "      <td>1190.0</td>\n",
       "      <td>1.0</td>\n",
       "    </tr>\n",
       "    <tr>\n",
       "      <th>59357</th>\n",
       "      <td>2014-11-23</td>\n",
       "      <td>22-482</td>\n",
       "      <td>Moscú</td>\n",
       "      <td>7.0</td>\n",
       "      <td>Moscú C21 tienda</td>\n",
       "      <td>22</td>\n",
       "      <td>Programa - 1C: Enterprise 8</td>\n",
       "      <td>73</td>\n",
       "      <td>1c: Contabilidad 8. Versión básica</td>\n",
       "      <td>482</td>\n",
       "      <td>3300.0</td>\n",
       "      <td>1.0</td>\n",
       "    </tr>\n",
       "    <tr>\n",
       "      <th>81739</th>\n",
       "      <td>2015-07-23</td>\n",
       "      <td>55-13342</td>\n",
       "      <td>Tienda Online</td>\n",
       "      <td>16.0</td>\n",
       "      <td>El almacenamiento digital 1C-line</td>\n",
       "      <td>55</td>\n",
       "      <td>Libros - Digital</td>\n",
       "      <td>54</td>\n",
       "      <td>Comp.vopr. SERT. Sobre el conocimiento del hit...</td>\n",
       "      <td>13342</td>\n",
       "      <td>150.0</td>\n",
       "      <td>1.0</td>\n",
       "    </tr>\n",
       "  </tbody>\n",
       "</table>\n",
       "</div>"
      ],
      "text/plain": [
       "            DATE UNIQUE_ID      CITY_NAME  CITY_ID  \\\n",
       "48221 2014-08-02   53-3734            Ufa     19.0   \n",
       "20953 2013-11-12   15-2808         Kaluga      2.0   \n",
       "82407 2015-07-28   19-4181          Kursk      6.0   \n",
       "59357 2014-11-23    22-482          Moscú      7.0   \n",
       "81739 2015-07-23  55-13342  Tienda Online     16.0   \n",
       "\n",
       "                               SHOP_NAME  SHOP_ID  \\\n",
       "48221                 Ufa TC \"familia\" 2       53   \n",
       "20953             Kaluga SEC \"Siglo XXI\"       15   \n",
       "82407                 Kursk TC \"Pushkin\"       19   \n",
       "59357                   Moscú C21 tienda       22   \n",
       "81739  El almacenamiento digital 1C-line       55   \n",
       "\n",
       "                          ITEM_CATEGORY_NAME  ITEM_CATEGORY_ID  \\\n",
       "48221                      Juegos - XBOX 360                23   \n",
       "20953           Juegos PC - Standard Edition                30   \n",
       "82407  Programa - Para el hogar y la oficina                75   \n",
       "59357            Programa - 1C: Enterprise 8                73   \n",
       "81739                       Libros - Digital                54   \n",
       "\n",
       "                                               ITEM_NAME  ITEM_ID  ITEM_PRICE  \\\n",
       "48221    Grand Theft Auto V [Xbox 360, subtítulos rusos]     3734      2599.0   \n",
       "20953               Diablo III [PC, JEWEL, versión rusa]     2808       999.0   \n",
       "82407  Kaspersky Internet Security Multi-Device Edici...     4181      1190.0   \n",
       "59357                 1c: Contabilidad 8. Versión básica      482      3300.0   \n",
       "81739  Comp.vopr. SERT. Sobre el conocimiento del hit...    13342       150.0   \n",
       "\n",
       "       SALES  \n",
       "48221    1.0  \n",
       "20953    2.0  \n",
       "82407    1.0  \n",
       "59357    1.0  \n",
       "81739    1.0  "
      ]
     },
     "execution_count": 11,
     "metadata": {},
     "output_type": "execute_result"
    }
   ],
   "source": [
    "df.sample(5)"
   ]
  },
  {
   "cell_type": "markdown",
   "id": "a27a1068",
   "metadata": {
    "papermill": {
     "duration": 0.01737,
     "end_time": "2022-12-25T18:21:15.684221",
     "exception": false,
     "start_time": "2022-12-25T18:21:15.666851",
     "status": "completed"
    },
    "tags": []
   },
   "source": [
    "A continuación vamos a agrupar las ventas diarias por mes, en función de cada shop_id e item_id (groupby).\n",
    "\n",
    "Dado que vamos a entrenar nuestro modelo con variables mensuales, aprovechamos la operación para constuir un total de 5 variables: \n",
    "\n",
    "1. Ventas totales\n",
    "2. Ingresos totales (precio x cantidad)\n",
    "3. Días únicos que tuvieron ventas\n",
    "4. Total transacciones del mes \n",
    "5. Precio medio del mes"
   ]
  },
  {
   "cell_type": "code",
   "execution_count": 12,
   "id": "372702b9",
   "metadata": {
    "execution": {
     "iopub.execute_input": "2022-12-25T18:21:15.722432Z",
     "iopub.status.busy": "2022-12-25T18:21:15.721770Z",
     "iopub.status.idle": "2022-12-25T18:21:15.728865Z",
     "shell.execute_reply": "2022-12-25T18:21:15.728037Z"
    },
    "papermill": {
     "duration": 0.028708,
     "end_time": "2022-12-25T18:21:15.731134",
     "exception": false,
     "start_time": "2022-12-25T18:21:15.702426",
     "status": "completed"
    },
    "tags": []
   },
   "outputs": [],
   "source": [
    "df[\"REVENUE\"] = df[\"ITEM_PRICE\"] * df[\"SALES\"]\n",
    "df[\"UNIQUE_DAYS_WITH_SALES\"] = df[\"DATE\"]\n",
    "df[\"TOTAL_TRANSACTIONS\"] = df[\"SALES\"]"
   ]
  },
  {
   "cell_type": "markdown",
   "id": "78385029",
   "metadata": {
    "papermill": {
     "duration": 0.018002,
     "end_time": "2022-12-25T18:21:15.767457",
     "exception": false,
     "start_time": "2022-12-25T18:21:15.749455",
     "status": "completed"
    },
    "tags": []
   },
   "source": [
    "En las clases anteriores hemos aprendido a utilizar el [pandas groupby](https://pandas.pydata.org/docs/reference/api/pandas.DataFrame.groupby.html).\n",
    "\n",
    "Cuando trabajamos con Series Temporales y necesitamos agrupar las Series Temporales por día, semana, mes o año, podemos utilizar el groupby pero es mejor utilizar el [pandas resample](https://pandas.pydata.org/pandas-docs/stable/reference/api/pandas.DataFrame.resample.html).\n",
    "\n",
    "La síntaxis del pandas resample es muy sencilla, vamos a ver un ejemplo de como podríamos agrupar las ventas por semana."
   ]
  },
  {
   "cell_type": "code",
   "execution_count": 13,
   "id": "17d271a0",
   "metadata": {
    "execution": {
     "iopub.execute_input": "2022-12-25T18:21:15.804975Z",
     "iopub.status.busy": "2022-12-25T18:21:15.804299Z",
     "iopub.status.idle": "2022-12-25T18:21:16.278824Z",
     "shell.execute_reply": "2022-12-25T18:21:16.277673Z"
    },
    "papermill": {
     "duration": 0.496023,
     "end_time": "2022-12-25T18:21:16.281169",
     "exception": false,
     "start_time": "2022-12-25T18:21:15.785146",
     "status": "completed"
    },
    "tags": []
   },
   "outputs": [
    {
     "data": {
      "image/png": "[encoded data removed]",
      "text/plain": [
       "<Figure size 864x360 with 1 Axes>"
      ]
     },
     "metadata": {
      "needs_background": "light"
     },
     "output_type": "display_data"
    }
   ],
   "source": [
    "# Para utilizar el resample\n",
    "# 1. La fecha debe estar en el índice\n",
    "# 2. Debemos llamar el método resample y pasarle un regla:\n",
    "#    D -> Daily\n",
    "#    W -> Weekly\n",
    "#    M -> Monthly\n",
    "#    Y -> Yearly\n",
    "\n",
    "df.set_index(\"DATE\").resample(\"W\")[\"SALES\"].sum().plot(figsize = (12, 5), title = \"Weekly Sales\");"
   ]
  },
  {
   "cell_type": "markdown",
   "id": "744c3e30",
   "metadata": {
    "papermill": {
     "duration": 0.017908,
     "end_time": "2022-12-25T18:21:16.317471",
     "exception": false,
     "start_time": "2022-12-25T18:21:16.299563",
     "status": "completed"
    },
    "tags": []
   },
   "source": [
    "En el código anterior, hemos hecho el resample de todas las ventas.\n",
    "\n",
    "Pero nosotros debemos tener en cuenta el item_id y el shop_id antes de hacer el resample.\n",
    "\n",
    "Veamos como podemos combinar el groupby con resample."
   ]
  },
  {
   "cell_type": "code",
   "execution_count": 14,
   "id": "2f26d87a",
   "metadata": {
    "execution": {
     "iopub.execute_input": "2022-12-25T18:21:16.357515Z",
     "iopub.status.busy": "2022-12-25T18:21:16.356646Z",
     "iopub.status.idle": "2022-12-25T18:21:20.884367Z",
     "shell.execute_reply": "2022-12-25T18:21:20.883307Z"
    },
    "papermill": {
     "duration": 4.55125,
     "end_time": "2022-12-25T18:21:20.887573",
     "exception": false,
     "start_time": "2022-12-25T18:21:16.336323",
     "status": "completed"
    },
    "tags": []
   },
   "outputs": [],
   "source": [
    "# Implement in class\n",
    "\n",
    "df_monthly_agg = df.set_index(\"DATE\").groupby([\"UNIQUE_ID\"]).resample(\"M\").agg(\n",
    "    {\n",
    "        \"SALES\":np.sum,\n",
    "        \"REVENUE\":np.sum,\n",
    "        \"UNIQUE_DAYS_WITH_SALES\":lambda dates: len(set(dates)),\n",
    "        \"TOTAL_TRANSACTIONS\":len,\n",
    "        \"ITEM_PRICE\":np.mean\n",
    "    }\n",
    ").rename(\n",
    "    columns = {\n",
    "        \"SALES\":\"MONTHLY_SALES\",\n",
    "        \"REVENUE\":\"MONTHLY_REVENUE\",\n",
    "        \"ITEM_PRICE\":\"MONTHLY_MEAN_PRICE\"\n",
    "    }\n",
    ").reset_index()"
   ]
  },
  {
   "cell_type": "code",
   "execution_count": 15,
   "id": "3b59d89f",
   "metadata": {
    "execution": {
     "iopub.execute_input": "2022-12-25T18:21:20.934273Z",
     "iopub.status.busy": "2022-12-25T18:21:20.933398Z",
     "iopub.status.idle": "2022-12-25T18:21:20.940925Z",
     "shell.execute_reply": "2022-12-25T18:21:20.939770Z"
    },
    "papermill": {
     "duration": 0.030662,
     "end_time": "2022-12-25T18:21:20.943511",
     "exception": false,
     "start_time": "2022-12-25T18:21:20.912849",
     "status": "completed"
    },
    "tags": []
   },
   "outputs": [],
   "source": [
    "df_monthly_agg[\"CHECK\"] = df_monthly_agg[\"UNIQUE_DAYS_WITH_SALES\"] == df_monthly_agg[\"TOTAL_TRANSACTIONS\"]"
   ]
  },
  {
   "cell_type": "code",
   "execution_count": 16,
   "id": "c8e7f279",
   "metadata": {
    "execution": {
     "iopub.execute_input": "2022-12-25T18:21:20.985889Z",
     "iopub.status.busy": "2022-12-25T18:21:20.984963Z",
     "iopub.status.idle": "2022-12-25T18:21:21.005278Z",
     "shell.execute_reply": "2022-12-25T18:21:21.004200Z"
    },
    "papermill": {
     "duration": 0.044618,
     "end_time": "2022-12-25T18:21:21.007675",
     "exception": false,
     "start_time": "2022-12-25T18:21:20.963057",
     "status": "completed"
    },
    "tags": []
   },
   "outputs": [
    {
     "data": {
      "text/html": [
       "<div>\n",
       "<style scoped>\n",
       "    .dataframe tbody tr th:only-of-type {\n",
       "        vertical-align: middle;\n",
       "    }\n",
       "\n",
       "    .dataframe tbody tr th {\n",
       "        vertical-align: top;\n",
       "    }\n",
       "\n",
       "    .dataframe thead th {\n",
       "        text-align: right;\n",
       "    }\n",
       "</style>\n",
       "<table border=\"1\" class=\"dataframe\">\n",
       "  <thead>\n",
       "    <tr style=\"text-align: right;\">\n",
       "      <th></th>\n",
       "      <th>UNIQUE_ID</th>\n",
       "      <th>DATE</th>\n",
       "      <th>MONTHLY_SALES</th>\n",
       "      <th>MONTHLY_REVENUE</th>\n",
       "      <th>UNIQUE_DAYS_WITH_SALES</th>\n",
       "      <th>TOTAL_TRANSACTIONS</th>\n",
       "      <th>MONTHLY_MEAN_PRICE</th>\n",
       "      <th>CHECK</th>\n",
       "    </tr>\n",
       "  </thead>\n",
       "  <tbody>\n",
       "    <tr>\n",
       "      <th>1728</th>\n",
       "      <td>24-5822</td>\n",
       "      <td>2013-03-31</td>\n",
       "      <td>15.0</td>\n",
       "      <td>15735.0</td>\n",
       "      <td>10</td>\n",
       "      <td>13</td>\n",
       "      <td>1049.000000</td>\n",
       "      <td>False</td>\n",
       "    </tr>\n",
       "    <tr>\n",
       "      <th>1609</th>\n",
       "      <td>24-3007</td>\n",
       "      <td>2013-01-31</td>\n",
       "      <td>24.0</td>\n",
       "      <td>42960.0</td>\n",
       "      <td>16</td>\n",
       "      <td>18</td>\n",
       "      <td>1790.000000</td>\n",
       "      <td>False</td>\n",
       "    </tr>\n",
       "    <tr>\n",
       "      <th>1546</th>\n",
       "      <td>24-2445</td>\n",
       "      <td>2013-04-30</td>\n",
       "      <td>32.0</td>\n",
       "      <td>19167.5</td>\n",
       "      <td>13</td>\n",
       "      <td>18</td>\n",
       "      <td>598.990741</td>\n",
       "      <td>False</td>\n",
       "    </tr>\n",
       "    <tr>\n",
       "      <th>1511</th>\n",
       "      <td>24-2308</td>\n",
       "      <td>2013-01-31</td>\n",
       "      <td>36.0</td>\n",
       "      <td>28643.5</td>\n",
       "      <td>20</td>\n",
       "      <td>25</td>\n",
       "      <td>796.593333</td>\n",
       "      <td>False</td>\n",
       "    </tr>\n",
       "    <tr>\n",
       "      <th>1612</th>\n",
       "      <td>24-3007</td>\n",
       "      <td>2013-04-30</td>\n",
       "      <td>12.0</td>\n",
       "      <td>22680.0</td>\n",
       "      <td>11</td>\n",
       "      <td>12</td>\n",
       "      <td>1890.000000</td>\n",
       "      <td>False</td>\n",
       "    </tr>\n",
       "  </tbody>\n",
       "</table>\n",
       "</div>"
      ],
      "text/plain": [
       "     UNIQUE_ID       DATE  MONTHLY_SALES  MONTHLY_REVENUE  \\\n",
       "1728   24-5822 2013-03-31           15.0          15735.0   \n",
       "1609   24-3007 2013-01-31           24.0          42960.0   \n",
       "1546   24-2445 2013-04-30           32.0          19167.5   \n",
       "1511   24-2308 2013-01-31           36.0          28643.5   \n",
       "1612   24-3007 2013-04-30           12.0          22680.0   \n",
       "\n",
       "      UNIQUE_DAYS_WITH_SALES  TOTAL_TRANSACTIONS  MONTHLY_MEAN_PRICE  CHECK  \n",
       "1728                      10                  13         1049.000000  False  \n",
       "1609                      16                  18         1790.000000  False  \n",
       "1546                      13                  18          598.990741  False  \n",
       "1511                      20                  25          796.593333  False  \n",
       "1612                      11                  12         1890.000000  False  "
      ]
     },
     "execution_count": 16,
     "metadata": {},
     "output_type": "execute_result"
    }
   ],
   "source": [
    "df_monthly_agg[df_monthly_agg[\"CHECK\"] == False].sample(5)"
   ]
  },
  {
   "cell_type": "markdown",
   "id": "bbc340e0",
   "metadata": {
    "papermill": {
     "duration": 0.019248,
     "end_time": "2022-12-25T18:21:21.046117",
     "exception": false,
     "start_time": "2022-12-25T18:21:21.026869",
     "status": "completed"
    },
    "tags": []
   },
   "source": [
    "A continuación vamos a tener que comprobar si tenemos todas las fechas en nuestro dataset o no.\n",
    "\n",
    "Dado que nuestro dataset va desde Enero'13 - Septiembre'15, son un total de 33 meses."
   ]
  },
  {
   "cell_type": "code",
   "execution_count": 17,
   "id": "f26fd24b",
   "metadata": {
    "execution": {
     "iopub.execute_input": "2022-12-25T18:21:21.087989Z",
     "iopub.status.busy": "2022-12-25T18:21:21.087030Z",
     "iopub.status.idle": "2022-12-25T18:21:21.099764Z",
     "shell.execute_reply": "2022-12-25T18:21:21.098585Z"
    },
    "papermill": {
     "duration": 0.036543,
     "end_time": "2022-12-25T18:21:21.102201",
     "exception": false,
     "start_time": "2022-12-25T18:21:21.065658",
     "status": "completed"
    },
    "tags": []
   },
   "outputs": [
    {
     "data": {
      "text/plain": [
       "UNIQUE_ID\n",
       "4-20949     29\n",
       "22-20949    30\n",
       "58-3734     25\n",
       "dtype: int64"
      ]
     },
     "execution_count": 17,
     "metadata": {},
     "output_type": "execute_result"
    }
   ],
   "source": [
    "check_months = df_monthly_agg.groupby(\"UNIQUE_ID\").size()\n",
    "check_months.sample(3)"
   ]
  },
  {
   "cell_type": "code",
   "execution_count": 18,
   "id": "76ae46ff",
   "metadata": {
    "execution": {
     "iopub.execute_input": "2022-12-25T18:21:21.144211Z",
     "iopub.status.busy": "2022-12-25T18:21:21.143272Z",
     "iopub.status.idle": "2022-12-25T18:21:21.151498Z",
     "shell.execute_reply": "2022-12-25T18:21:21.150598Z"
    },
    "papermill": {
     "duration": 0.032016,
     "end_time": "2022-12-25T18:21:21.154019",
     "exception": false,
     "start_time": "2022-12-25T18:21:21.122003",
     "status": "completed"
    },
    "tags": []
   },
   "outputs": [
    {
     "data": {
      "text/plain": [
       "(173,)"
      ]
     },
     "execution_count": 18,
     "metadata": {},
     "output_type": "execute_result"
    }
   ],
   "source": [
    "check_months[check_months != 33].shape"
   ]
  },
  {
   "cell_type": "markdown",
   "id": "dc744d42",
   "metadata": {
    "execution": {
     "iopub.execute_input": "2022-12-25T12:39:50.438445Z",
     "iopub.status.busy": "2022-12-25T12:39:50.438087Z",
     "iopub.status.idle": "2022-12-25T12:39:50.445116Z",
     "shell.execute_reply": "2022-12-25T12:39:50.444240Z",
     "shell.execute_reply.started": "2022-12-25T12:39:50.438417Z"
    },
    "papermill": {
     "duration": 0.019068,
     "end_time": "2022-12-25T18:21:21.192537",
     "exception": false,
     "start_time": "2022-12-25T18:21:21.173469",
     "status": "completed"
    },
    "tags": []
   },
   "source": [
    "Tenemos un total de 173 Series Temporales incompletas (es decir, les falta por lo menos 1 mes de registros).\n",
    "\n",
    "El motivo de estos, es que sólo tenemos las ventas reportadas. Si un día o en un mes no se producen ventas, no tenemos estos registros en nuestro df original.\n",
    "\n",
    "A continuación vamos a generar un dataframe con todos los registros históricos y también con el mes de Octubre'2015 (mes de predict)."
   ]
  },
  {
   "cell_type": "code",
   "execution_count": 19,
   "id": "3a1c85e2",
   "metadata": {
    "execution": {
     "iopub.execute_input": "2022-12-25T18:21:21.232733Z",
     "iopub.status.busy": "2022-12-25T18:21:21.232364Z",
     "iopub.status.idle": "2022-12-25T18:21:21.241294Z",
     "shell.execute_reply": "2022-12-25T18:21:21.240051Z"
    },
    "papermill": {
     "duration": 0.032982,
     "end_time": "2022-12-25T18:21:21.244833",
     "exception": false,
     "start_time": "2022-12-25T18:21:21.211851",
     "status": "completed"
    },
    "tags": []
   },
   "outputs": [
    {
     "data": {
      "text/plain": [
       "DatetimeIndex(['2013-01-31', '2013-02-28', '2013-03-31', '2013-04-30',\n",
       "               '2013-05-31', '2013-06-30', '2013-07-31', '2013-08-31',\n",
       "               '2013-09-30', '2013-10-31', '2013-11-30', '2013-12-31',\n",
       "               '2014-01-31', '2014-02-28', '2014-03-31', '2014-04-30',\n",
       "               '2014-05-31', '2014-06-30', '2014-07-31', '2014-08-31',\n",
       "               '2014-09-30', '2014-10-31', '2014-11-30', '2014-12-31',\n",
       "               '2015-01-31', '2015-02-28', '2015-03-31', '2015-04-30',\n",
       "               '2015-05-31', '2015-06-30', '2015-07-31', '2015-08-31',\n",
       "               '2015-09-30', '2015-10-31'],\n",
       "              dtype='datetime64[ns]', freq='M')"
      ]
     },
     "execution_count": 19,
     "metadata": {},
     "output_type": "execute_result"
    }
   ],
   "source": [
    "# generamos un rango con todas las fechas incluídas en el predict (Octubre'2015)\n",
    "DATE_PREDICTION = np.datetime64(\"2015-10-31\")\n",
    "date_range = pd.date_range(MIN_DATE, DATE_PREDICTION, freq = \"M\")\n",
    "date_range"
   ]
  },
  {
   "cell_type": "code",
   "execution_count": 20,
   "id": "a1e3be56",
   "metadata": {
    "execution": {
     "iopub.execute_input": "2022-12-25T18:21:21.310270Z",
     "iopub.status.busy": "2022-12-25T18:21:21.309486Z",
     "iopub.status.idle": "2022-12-25T18:21:21.318465Z",
     "shell.execute_reply": "2022-12-25T18:21:21.317324Z"
    },
    "papermill": {
     "duration": 0.043799,
     "end_time": "2022-12-25T18:21:21.321290",
     "exception": false,
     "start_time": "2022-12-25T18:21:21.277491",
     "status": "completed"
    },
    "tags": []
   },
   "outputs": [
    {
     "data": {
      "text/plain": [
       "['11-20949', '11-4181', '12-11365']"
      ]
     },
     "execution_count": 20,
     "metadata": {},
     "output_type": "execute_result"
    }
   ],
   "source": [
    "# sacamos todas las combinaciones únicas que tenemos en nuestro dataframe (299 combinaciones, una por cada serie temporal)\n",
    "unique_id = sorted(df_monthly_agg[\"UNIQUE_ID\"].unique())\n",
    "unique_id[:3]"
   ]
  },
  {
   "cell_type": "code",
   "execution_count": 21,
   "id": "0bce3524",
   "metadata": {
    "execution": {
     "iopub.execute_input": "2022-12-25T18:21:21.375672Z",
     "iopub.status.busy": "2022-12-25T18:21:21.375250Z",
     "iopub.status.idle": "2022-12-25T18:21:21.382560Z",
     "shell.execute_reply": "2022-12-25T18:21:21.381409Z"
    },
    "papermill": {
     "duration": 0.032819,
     "end_time": "2022-12-25T18:21:21.385147",
     "exception": false,
     "start_time": "2022-12-25T18:21:21.352328",
     "status": "completed"
    },
    "tags": []
   },
   "outputs": [
    {
     "data": {
      "text/plain": [
       "299"
      ]
     },
     "execution_count": 21,
     "metadata": {},
     "output_type": "execute_result"
    }
   ],
   "source": [
    "len(unique_id)"
   ]
  },
  {
   "cell_type": "markdown",
   "id": "e5881ecb",
   "metadata": {
    "execution": {
     "iopub.execute_input": "2022-12-25T12:47:26.011459Z",
     "iopub.status.busy": "2022-12-25T12:47:26.011080Z",
     "iopub.status.idle": "2022-12-25T12:47:26.019833Z",
     "shell.execute_reply": "2022-12-25T12:47:26.018601Z",
     "shell.execute_reply.started": "2022-12-25T12:47:26.011427Z"
    },
    "papermill": {
     "duration": 0.020497,
     "end_time": "2022-12-25T18:21:21.426175",
     "exception": false,
     "start_time": "2022-12-25T18:21:21.405678",
     "status": "completed"
    },
    "tags": []
   },
   "source": [
    "Generamos todas las combinaciones entre meses e unique_id.\n",
    "\n",
    "Es decir, necesitamos sacar un [producto cartesiano](https://es.wikipedia.org/wiki/Producto_cartesiano)."
   ]
  },
  {
   "cell_type": "code",
   "execution_count": 22,
   "id": "286afe3f",
   "metadata": {
    "execution": {
     "iopub.execute_input": "2022-12-25T18:21:21.469210Z",
     "iopub.status.busy": "2022-12-25T18:21:21.468768Z",
     "iopub.status.idle": "2022-12-25T18:21:21.479522Z",
     "shell.execute_reply": "2022-12-25T18:21:21.478279Z"
    },
    "papermill": {
     "duration": 0.035519,
     "end_time": "2022-12-25T18:21:21.482061",
     "exception": false,
     "start_time": "2022-12-25T18:21:21.446542",
     "status": "completed"
    },
    "tags": []
   },
   "outputs": [
    {
     "data": {
      "text/plain": [
       "10166"
      ]
     },
     "execution_count": 22,
     "metadata": {},
     "output_type": "execute_result"
    }
   ],
   "source": [
    "cartesian_product = pd.MultiIndex.from_product([date_range, unique_id], names = [\"DATE\", \"UNIQUE_ID\"])\n",
    "len(cartesian_product)"
   ]
  },
  {
   "cell_type": "code",
   "execution_count": 23,
   "id": "093645df",
   "metadata": {
    "execution": {
     "iopub.execute_input": "2022-12-25T18:21:21.528074Z",
     "iopub.status.busy": "2022-12-25T18:21:21.527658Z",
     "iopub.status.idle": "2022-12-25T18:21:21.534293Z",
     "shell.execute_reply": "2022-12-25T18:21:21.533018Z"
    },
    "papermill": {
     "duration": 0.03231,
     "end_time": "2022-12-25T18:21:21.536639",
     "exception": false,
     "start_time": "2022-12-25T18:21:21.504329",
     "status": "completed"
    },
    "tags": []
   },
   "outputs": [
    {
     "data": {
      "text/plain": [
       "10166"
      ]
     },
     "execution_count": 23,
     "metadata": {},
     "output_type": "execute_result"
    }
   ],
   "source": [
    "# 10166 son 34 meses por todas las combinaciones de unique_id\n",
    "34 * 299"
   ]
  },
  {
   "cell_type": "markdown",
   "id": "b1a11fb4",
   "metadata": {
    "papermill": {
     "duration": 0.02106,
     "end_time": "2022-12-25T18:21:21.580615",
     "exception": false,
     "start_time": "2022-12-25T18:21:21.559555",
     "status": "completed"
    },
    "tags": []
   },
   "source": [
    "Cruzamos nuestro producto cartesiano con el dataframe agrupado por meses y que contiene las ventas históricas."
   ]
  },
  {
   "cell_type": "code",
   "execution_count": 24,
   "id": "4e96935d",
   "metadata": {
    "execution": {
     "iopub.execute_input": "2022-12-25T18:21:21.626522Z",
     "iopub.status.busy": "2022-12-25T18:21:21.625464Z",
     "iopub.status.idle": "2022-12-25T18:21:21.646494Z",
     "shell.execute_reply": "2022-12-25T18:21:21.645011Z"
    },
    "papermill": {
     "duration": 0.04688,
     "end_time": "2022-12-25T18:21:21.649377",
     "exception": false,
     "start_time": "2022-12-25T18:21:21.602497",
     "status": "completed"
    },
    "tags": []
   },
   "outputs": [
    {
     "name": "stdout",
     "output_type": "stream",
     "text": [
      "(10166, 2)\n",
      "(10166, 8)\n"
     ]
    }
   ],
   "source": [
    "full_df = pd.DataFrame(index = cartesian_product).reset_index()\n",
    "\n",
    "print(full_df.shape)\n",
    "\n",
    "full_df = pd.merge(full_df, df_monthly_agg, on = ['DATE','UNIQUE_ID'], how = 'left')\n",
    "\n",
    "print(full_df.shape)"
   ]
  },
  {
   "cell_type": "code",
   "execution_count": 25,
   "id": "dcb7bbe2",
   "metadata": {
    "execution": {
     "iopub.execute_input": "2022-12-25T18:21:21.691796Z",
     "iopub.status.busy": "2022-12-25T18:21:21.691393Z",
     "iopub.status.idle": "2022-12-25T18:21:21.712343Z",
     "shell.execute_reply": "2022-12-25T18:21:21.710878Z"
    },
    "papermill": {
     "duration": 0.045423,
     "end_time": "2022-12-25T18:21:21.715354",
     "exception": false,
     "start_time": "2022-12-25T18:21:21.669931",
     "status": "completed"
    },
    "tags": []
   },
   "outputs": [
    {
     "data": {
      "text/html": [
       "<div>\n",
       "<style scoped>\n",
       "    .dataframe tbody tr th:only-of-type {\n",
       "        vertical-align: middle;\n",
       "    }\n",
       "\n",
       "    .dataframe tbody tr th {\n",
       "        vertical-align: top;\n",
       "    }\n",
       "\n",
       "    .dataframe thead th {\n",
       "        text-align: right;\n",
       "    }\n",
       "</style>\n",
       "<table border=\"1\" class=\"dataframe\">\n",
       "  <thead>\n",
       "    <tr style=\"text-align: right;\">\n",
       "      <th></th>\n",
       "      <th>DATE</th>\n",
       "      <th>UNIQUE_ID</th>\n",
       "      <th>MONTHLY_SALES</th>\n",
       "      <th>MONTHLY_REVENUE</th>\n",
       "      <th>UNIQUE_DAYS_WITH_SALES</th>\n",
       "      <th>TOTAL_TRANSACTIONS</th>\n",
       "      <th>MONTHLY_MEAN_PRICE</th>\n",
       "      <th>CHECK</th>\n",
       "    </tr>\n",
       "  </thead>\n",
       "  <tbody>\n",
       "    <tr>\n",
       "      <th>6645</th>\n",
       "      <td>2014-11-30</td>\n",
       "      <td>25-17717</td>\n",
       "      <td>58.0</td>\n",
       "      <td>72697.0</td>\n",
       "      <td>23.0</td>\n",
       "      <td>23.0</td>\n",
       "      <td>1285.336957</td>\n",
       "      <td>True</td>\n",
       "    </tr>\n",
       "    <tr>\n",
       "      <th>5100</th>\n",
       "      <td>2014-06-30</td>\n",
       "      <td>15-5822</td>\n",
       "      <td>17.0</td>\n",
       "      <td>17518.0</td>\n",
       "      <td>12.0</td>\n",
       "      <td>12.0</td>\n",
       "      <td>1035.875000</td>\n",
       "      <td>True</td>\n",
       "    </tr>\n",
       "    <tr>\n",
       "      <th>1006</th>\n",
       "      <td>2013-04-30</td>\n",
       "      <td>28-5821</td>\n",
       "      <td>4.0</td>\n",
       "      <td>2396.0</td>\n",
       "      <td>4.0</td>\n",
       "      <td>4.0</td>\n",
       "      <td>599.000000</td>\n",
       "      <td>True</td>\n",
       "    </tr>\n",
       "    <tr>\n",
       "      <th>4665</th>\n",
       "      <td>2014-04-30</td>\n",
       "      <td>38-2808</td>\n",
       "      <td>6.0</td>\n",
       "      <td>5994.0</td>\n",
       "      <td>5.0</td>\n",
       "      <td>5.0</td>\n",
       "      <td>999.000000</td>\n",
       "      <td>True</td>\n",
       "    </tr>\n",
       "    <tr>\n",
       "      <th>5684</th>\n",
       "      <td>2014-08-31</td>\n",
       "      <td>12-11369</td>\n",
       "      <td>31.0</td>\n",
       "      <td>32310.0</td>\n",
       "      <td>12.0</td>\n",
       "      <td>12.0</td>\n",
       "      <td>1141.416667</td>\n",
       "      <td>True</td>\n",
       "    </tr>\n",
       "  </tbody>\n",
       "</table>\n",
       "</div>"
      ],
      "text/plain": [
       "           DATE UNIQUE_ID  MONTHLY_SALES  MONTHLY_REVENUE  \\\n",
       "6645 2014-11-30  25-17717           58.0          72697.0   \n",
       "5100 2014-06-30   15-5822           17.0          17518.0   \n",
       "1006 2013-04-30   28-5821            4.0           2396.0   \n",
       "4665 2014-04-30   38-2808            6.0           5994.0   \n",
       "5684 2014-08-31  12-11369           31.0          32310.0   \n",
       "\n",
       "      UNIQUE_DAYS_WITH_SALES  TOTAL_TRANSACTIONS  MONTHLY_MEAN_PRICE CHECK  \n",
       "6645                    23.0                23.0         1285.336957  True  \n",
       "5100                    12.0                12.0         1035.875000  True  \n",
       "1006                     4.0                 4.0          599.000000  True  \n",
       "4665                     5.0                 5.0          999.000000  True  \n",
       "5684                    12.0                12.0         1141.416667  True  "
      ]
     },
     "execution_count": 25,
     "metadata": {},
     "output_type": "execute_result"
    }
   ],
   "source": [
    "full_df.sample(5)"
   ]
  },
  {
   "cell_type": "markdown",
   "id": "3ed97dbe",
   "metadata": {
    "papermill": {
     "duration": 0.020062,
     "end_time": "2022-12-25T18:21:21.756123",
     "exception": false,
     "start_time": "2022-12-25T18:21:21.736061",
     "status": "completed"
    },
    "tags": []
   },
   "source": [
    "Hemos agrupado nuestras ventas, pero hemos perdido algo de información del dataset original.\n",
    "\n",
    "Vamos a enriquecer nuestro full_df con más información."
   ]
  },
  {
   "cell_type": "code",
   "execution_count": 26,
   "id": "68e50e35",
   "metadata": {
    "execution": {
     "iopub.execute_input": "2022-12-25T18:21:21.799850Z",
     "iopub.status.busy": "2022-12-25T18:21:21.799422Z",
     "iopub.status.idle": "2022-12-25T18:21:21.883405Z",
     "shell.execute_reply": "2022-12-25T18:21:21.882311Z"
    },
    "papermill": {
     "duration": 0.109354,
     "end_time": "2022-12-25T18:21:21.885801",
     "exception": false,
     "start_time": "2022-12-25T18:21:21.776447",
     "status": "completed"
    },
    "tags": []
   },
   "outputs": [
    {
     "data": {
      "text/html": [
       "<div>\n",
       "<style scoped>\n",
       "    .dataframe tbody tr th:only-of-type {\n",
       "        vertical-align: middle;\n",
       "    }\n",
       "\n",
       "    .dataframe tbody tr th {\n",
       "        vertical-align: top;\n",
       "    }\n",
       "\n",
       "    .dataframe thead th {\n",
       "        text-align: right;\n",
       "    }\n",
       "</style>\n",
       "<table border=\"1\" class=\"dataframe\">\n",
       "  <thead>\n",
       "    <tr style=\"text-align: right;\">\n",
       "      <th></th>\n",
       "      <th>UNIQUE_ID</th>\n",
       "      <th>CITY_NAME</th>\n",
       "      <th>CITY_ID</th>\n",
       "      <th>SHOP_NAME</th>\n",
       "      <th>SHOP_ID</th>\n",
       "      <th>ITEM_CATEGORY_NAME</th>\n",
       "      <th>ITEM_CATEGORY_ID</th>\n",
       "      <th>ITEM_NAME</th>\n",
       "      <th>ITEM_ID</th>\n",
       "    </tr>\n",
       "  </thead>\n",
       "  <tbody>\n",
       "    <tr>\n",
       "      <th>0</th>\n",
       "      <td>25-2574</td>\n",
       "      <td>Moscú</td>\n",
       "      <td>7.0</td>\n",
       "      <td>Moscú SEC \"Atrium\"</td>\n",
       "      <td>25</td>\n",
       "      <td>Música - CD de la producción local</td>\n",
       "      <td>55</td>\n",
       "      <td>Del Rey Lana Nació para morir la edición de Pa...</td>\n",
       "      <td>2574</td>\n",
       "    </tr>\n",
       "    <tr>\n",
       "      <th>10</th>\n",
       "      <td>25-2808</td>\n",
       "      <td>Moscú</td>\n",
       "      <td>7.0</td>\n",
       "      <td>Moscú SEC \"Atrium\"</td>\n",
       "      <td>25</td>\n",
       "      <td>Juegos PC - Standard Edition</td>\n",
       "      <td>30</td>\n",
       "      <td>Diablo III [PC, JEWEL, versión rusa]</td>\n",
       "      <td>2808</td>\n",
       "    </tr>\n",
       "    <tr>\n",
       "      <th>28</th>\n",
       "      <td>25-2308</td>\n",
       "      <td>Moscú</td>\n",
       "      <td>7.0</td>\n",
       "      <td>Moscú SEC \"Atrium\"</td>\n",
       "      <td>25</td>\n",
       "      <td>Juegos PC - Standard Edition</td>\n",
       "      <td>30</td>\n",
       "      <td>Call of Duty: Black Ops II [PC, Jewel, versión...</td>\n",
       "      <td>2308</td>\n",
       "    </tr>\n",
       "  </tbody>\n",
       "</table>\n",
       "</div>"
      ],
      "text/plain": [
       "   UNIQUE_ID CITY_NAME  CITY_ID           SHOP_NAME  SHOP_ID  \\\n",
       "0    25-2574     Moscú      7.0  Moscú SEC \"Atrium\"       25   \n",
       "10   25-2808     Moscú      7.0  Moscú SEC \"Atrium\"       25   \n",
       "28   25-2308     Moscú      7.0  Moscú SEC \"Atrium\"       25   \n",
       "\n",
       "                    ITEM_CATEGORY_NAME  ITEM_CATEGORY_ID  \\\n",
       "0   Música - CD de la producción local                55   \n",
       "10        Juegos PC - Standard Edition                30   \n",
       "28        Juegos PC - Standard Edition                30   \n",
       "\n",
       "                                            ITEM_NAME  ITEM_ID  \n",
       "0   Del Rey Lana Nació para morir la edición de Pa...     2574  \n",
       "10               Diablo III [PC, JEWEL, versión rusa]     2808  \n",
       "28  Call of Duty: Black Ops II [PC, Jewel, versión...     2308  "
      ]
     },
     "execution_count": 26,
     "metadata": {},
     "output_type": "execute_result"
    }
   ],
   "source": [
    "add_info = df[\n",
    "    [\"UNIQUE_ID\", \"CITY_NAME\", \"CITY_ID\", \"SHOP_NAME\", \"SHOP_ID\", \"ITEM_CATEGORY_NAME\", \"ITEM_CATEGORY_ID\", \"ITEM_NAME\", \"ITEM_ID\"]\n",
    "].drop_duplicates()\n",
    "\n",
    "add_info.head(3)"
   ]
  },
  {
   "cell_type": "code",
   "execution_count": 27,
   "id": "4ac3c83d",
   "metadata": {
    "execution": {
     "iopub.execute_input": "2022-12-25T18:21:21.929661Z",
     "iopub.status.busy": "2022-12-25T18:21:21.929273Z",
     "iopub.status.idle": "2022-12-25T18:21:21.935701Z",
     "shell.execute_reply": "2022-12-25T18:21:21.934913Z"
    },
    "papermill": {
     "duration": 0.031254,
     "end_time": "2022-12-25T18:21:21.937988",
     "exception": false,
     "start_time": "2022-12-25T18:21:21.906734",
     "status": "completed"
    },
    "tags": []
   },
   "outputs": [
    {
     "data": {
      "text/plain": [
       "(299, 9)"
      ]
     },
     "execution_count": 27,
     "metadata": {},
     "output_type": "execute_result"
    }
   ],
   "source": [
    "add_info.shape"
   ]
  },
  {
   "cell_type": "code",
   "execution_count": 28,
   "id": "3e645bd9",
   "metadata": {
    "execution": {
     "iopub.execute_input": "2022-12-25T18:21:21.984174Z",
     "iopub.status.busy": "2022-12-25T18:21:21.983617Z",
     "iopub.status.idle": "2022-12-25T18:21:22.002126Z",
     "shell.execute_reply": "2022-12-25T18:21:22.000714Z"
    },
    "papermill": {
     "duration": 0.043974,
     "end_time": "2022-12-25T18:21:22.004517",
     "exception": false,
     "start_time": "2022-12-25T18:21:21.960543",
     "status": "completed"
    },
    "tags": []
   },
   "outputs": [
    {
     "name": "stdout",
     "output_type": "stream",
     "text": [
      "(10166, 8)\n",
      "(10166, 16)\n"
     ]
    }
   ],
   "source": [
    "print(full_df.shape)\n",
    "\n",
    "full_df = pd.merge(\n",
    "    left = full_df,\n",
    "    right = add_info,\n",
    "    how = \"left\",\n",
    "    on = \"UNIQUE_ID\"\n",
    ")\n",
    "\n",
    "print(full_df.shape)"
   ]
  },
  {
   "cell_type": "markdown",
   "id": "047e0ab1",
   "metadata": {
    "papermill": {
     "duration": 0.02233,
     "end_time": "2022-12-25T18:21:22.049371",
     "exception": false,
     "start_time": "2022-12-25T18:21:22.027041",
     "status": "completed"
    },
    "tags": []
   },
   "source": [
    "<a id='impute'></a>\n",
    "### Data Imputation\n",
    "[Volver al índice](#index)<br>"
   ]
  },
  {
   "cell_type": "code",
   "execution_count": 29,
   "id": "33b1f2a0",
   "metadata": {
    "execution": {
     "iopub.execute_input": "2022-12-25T18:21:22.094512Z",
     "iopub.status.busy": "2022-12-25T18:21:22.094038Z",
     "iopub.status.idle": "2022-12-25T18:21:22.103202Z",
     "shell.execute_reply": "2022-12-25T18:21:22.102146Z"
    },
    "papermill": {
     "duration": 0.034271,
     "end_time": "2022-12-25T18:21:22.105800",
     "exception": false,
     "start_time": "2022-12-25T18:21:22.071529",
     "status": "completed"
    },
    "tags": []
   },
   "outputs": [],
   "source": [
    "full_df.drop([\"CHECK\"], axis = 1, inplace = True)"
   ]
  },
  {
   "cell_type": "code",
   "execution_count": 30,
   "id": "9cd2ce94",
   "metadata": {
    "execution": {
     "iopub.execute_input": "2022-12-25T18:21:22.151492Z",
     "iopub.status.busy": "2022-12-25T18:21:22.150380Z",
     "iopub.status.idle": "2022-12-25T18:21:22.162832Z",
     "shell.execute_reply": "2022-12-25T18:21:22.161888Z"
    },
    "papermill": {
     "duration": 0.037341,
     "end_time": "2022-12-25T18:21:22.164986",
     "exception": false,
     "start_time": "2022-12-25T18:21:22.127645",
     "status": "completed"
    },
    "tags": []
   },
   "outputs": [
    {
     "data": {
      "text/plain": [
       "DATE                         0\n",
       "UNIQUE_ID                    0\n",
       "MONTHLY_SALES             1420\n",
       "MONTHLY_REVENUE           1420\n",
       "UNIQUE_DAYS_WITH_SALES    1420\n",
       "TOTAL_TRANSACTIONS        1420\n",
       "MONTHLY_MEAN_PRICE        1700\n",
       "CITY_NAME                    0\n",
       "CITY_ID                      0\n",
       "SHOP_NAME                    0\n",
       "SHOP_ID                      0\n",
       "ITEM_CATEGORY_NAME           0\n",
       "ITEM_CATEGORY_ID             0\n",
       "ITEM_NAME                    0\n",
       "ITEM_ID                      0\n",
       "dtype: int64"
      ]
     },
     "execution_count": 30,
     "metadata": {},
     "output_type": "execute_result"
    }
   ],
   "source": [
    "full_df.isnull().sum()"
   ]
  },
  {
   "cell_type": "code",
   "execution_count": 31,
   "id": "584b0383",
   "metadata": {
    "execution": {
     "iopub.execute_input": "2022-12-25T18:21:22.210198Z",
     "iopub.status.busy": "2022-12-25T18:21:22.209194Z",
     "iopub.status.idle": "2022-12-25T18:21:22.216573Z",
     "shell.execute_reply": "2022-12-25T18:21:22.215687Z"
    },
    "papermill": {
     "duration": 0.032436,
     "end_time": "2022-12-25T18:21:22.218832",
     "exception": false,
     "start_time": "2022-12-25T18:21:22.186396",
     "status": "completed"
    },
    "tags": []
   },
   "outputs": [],
   "source": [
    "full_df[\"MONTHLY_SALES\"].fillna(0, inplace = True)\n",
    "full_df[\"MONTHLY_REVENUE\"].fillna(0, inplace = True)\n",
    "full_df[\"UNIQUE_DAYS_WITH_SALES\"].fillna(0, inplace = True)\n",
    "full_df[\"TOTAL_TRANSACTIONS\"].fillna(0, inplace = True)"
   ]
  },
  {
   "cell_type": "code",
   "execution_count": 32,
   "id": "6042b8b3",
   "metadata": {
    "execution": {
     "iopub.execute_input": "2022-12-25T18:21:22.263316Z",
     "iopub.status.busy": "2022-12-25T18:21:22.262532Z",
     "iopub.status.idle": "2022-12-25T18:21:22.280470Z",
     "shell.execute_reply": "2022-12-25T18:21:22.279339Z"
    },
    "papermill": {
     "duration": 0.04314,
     "end_time": "2022-12-25T18:21:22.282734",
     "exception": false,
     "start_time": "2022-12-25T18:21:22.239594",
     "status": "completed"
    },
    "tags": []
   },
   "outputs": [
    {
     "data": {
      "text/html": [
       "<div>\n",
       "<style scoped>\n",
       "    .dataframe tbody tr th:only-of-type {\n",
       "        vertical-align: middle;\n",
       "    }\n",
       "\n",
       "    .dataframe tbody tr th {\n",
       "        vertical-align: top;\n",
       "    }\n",
       "\n",
       "    .dataframe thead th {\n",
       "        text-align: right;\n",
       "    }\n",
       "</style>\n",
       "<table border=\"1\" class=\"dataframe\">\n",
       "  <thead>\n",
       "    <tr style=\"text-align: right;\">\n",
       "      <th></th>\n",
       "      <th>DATE</th>\n",
       "      <th>UNIQUE_ID</th>\n",
       "      <th>MONTHLY_MEAN_PRICE</th>\n",
       "    </tr>\n",
       "  </thead>\n",
       "  <tbody>\n",
       "    <tr>\n",
       "      <th>296</th>\n",
       "      <td>2013-01-31</td>\n",
       "      <td>7-17717</td>\n",
       "      <td>449.000000</td>\n",
       "    </tr>\n",
       "    <tr>\n",
       "      <th>595</th>\n",
       "      <td>2013-02-28</td>\n",
       "      <td>7-17717</td>\n",
       "      <td>428.000000</td>\n",
       "    </tr>\n",
       "    <tr>\n",
       "      <th>894</th>\n",
       "      <td>2013-03-31</td>\n",
       "      <td>7-17717</td>\n",
       "      <td>619.000000</td>\n",
       "    </tr>\n",
       "    <tr>\n",
       "      <th>1193</th>\n",
       "      <td>2013-04-30</td>\n",
       "      <td>7-17717</td>\n",
       "      <td>390.000000</td>\n",
       "    </tr>\n",
       "    <tr>\n",
       "      <th>1492</th>\n",
       "      <td>2013-05-31</td>\n",
       "      <td>7-17717</td>\n",
       "      <td>599.000000</td>\n",
       "    </tr>\n",
       "    <tr>\n",
       "      <th>1791</th>\n",
       "      <td>2013-06-30</td>\n",
       "      <td>7-17717</td>\n",
       "      <td>NaN</td>\n",
       "    </tr>\n",
       "    <tr>\n",
       "      <th>2090</th>\n",
       "      <td>2013-07-31</td>\n",
       "      <td>7-17717</td>\n",
       "      <td>281.745000</td>\n",
       "    </tr>\n",
       "    <tr>\n",
       "      <th>2389</th>\n",
       "      <td>2013-08-31</td>\n",
       "      <td>7-17717</td>\n",
       "      <td>239.400000</td>\n",
       "    </tr>\n",
       "    <tr>\n",
       "      <th>2688</th>\n",
       "      <td>2013-09-30</td>\n",
       "      <td>7-17717</td>\n",
       "      <td>333.000000</td>\n",
       "    </tr>\n",
       "    <tr>\n",
       "      <th>2987</th>\n",
       "      <td>2013-10-31</td>\n",
       "      <td>7-17717</td>\n",
       "      <td>499.000000</td>\n",
       "    </tr>\n",
       "    <tr>\n",
       "      <th>3286</th>\n",
       "      <td>2013-11-30</td>\n",
       "      <td>7-17717</td>\n",
       "      <td>NaN</td>\n",
       "    </tr>\n",
       "    <tr>\n",
       "      <th>3585</th>\n",
       "      <td>2013-12-31</td>\n",
       "      <td>7-17717</td>\n",
       "      <td>364.000000</td>\n",
       "    </tr>\n",
       "    <tr>\n",
       "      <th>3884</th>\n",
       "      <td>2014-01-31</td>\n",
       "      <td>7-17717</td>\n",
       "      <td>1800.000000</td>\n",
       "    </tr>\n",
       "    <tr>\n",
       "      <th>4183</th>\n",
       "      <td>2014-02-28</td>\n",
       "      <td>7-17717</td>\n",
       "      <td>NaN</td>\n",
       "    </tr>\n",
       "    <tr>\n",
       "      <th>4482</th>\n",
       "      <td>2014-03-31</td>\n",
       "      <td>7-17717</td>\n",
       "      <td>NaN</td>\n",
       "    </tr>\n",
       "    <tr>\n",
       "      <th>4781</th>\n",
       "      <td>2014-04-30</td>\n",
       "      <td>7-17717</td>\n",
       "      <td>504.266667</td>\n",
       "    </tr>\n",
       "    <tr>\n",
       "      <th>5080</th>\n",
       "      <td>2014-05-31</td>\n",
       "      <td>7-17717</td>\n",
       "      <td>572.404762</td>\n",
       "    </tr>\n",
       "    <tr>\n",
       "      <th>5379</th>\n",
       "      <td>2014-06-30</td>\n",
       "      <td>7-17717</td>\n",
       "      <td>524.333333</td>\n",
       "    </tr>\n",
       "    <tr>\n",
       "      <th>5678</th>\n",
       "      <td>2014-07-31</td>\n",
       "      <td>7-17717</td>\n",
       "      <td>1004.153846</td>\n",
       "    </tr>\n",
       "    <tr>\n",
       "      <th>5977</th>\n",
       "      <td>2014-08-31</td>\n",
       "      <td>7-17717</td>\n",
       "      <td>615.220635</td>\n",
       "    </tr>\n",
       "    <tr>\n",
       "      <th>6276</th>\n",
       "      <td>2014-09-30</td>\n",
       "      <td>7-17717</td>\n",
       "      <td>1026.638889</td>\n",
       "    </tr>\n",
       "    <tr>\n",
       "      <th>6575</th>\n",
       "      <td>2014-10-31</td>\n",
       "      <td>7-17717</td>\n",
       "      <td>805.202381</td>\n",
       "    </tr>\n",
       "    <tr>\n",
       "      <th>6874</th>\n",
       "      <td>2014-11-30</td>\n",
       "      <td>7-17717</td>\n",
       "      <td>1086.531944</td>\n",
       "    </tr>\n",
       "    <tr>\n",
       "      <th>7173</th>\n",
       "      <td>2014-12-31</td>\n",
       "      <td>7-17717</td>\n",
       "      <td>1156.085632</td>\n",
       "    </tr>\n",
       "    <tr>\n",
       "      <th>7472</th>\n",
       "      <td>2015-01-31</td>\n",
       "      <td>7-17717</td>\n",
       "      <td>932.831714</td>\n",
       "    </tr>\n",
       "    <tr>\n",
       "      <th>7771</th>\n",
       "      <td>2015-02-28</td>\n",
       "      <td>7-17717</td>\n",
       "      <td>1078.297101</td>\n",
       "    </tr>\n",
       "    <tr>\n",
       "      <th>8070</th>\n",
       "      <td>2015-03-31</td>\n",
       "      <td>7-17717</td>\n",
       "      <td>899.833333</td>\n",
       "    </tr>\n",
       "    <tr>\n",
       "      <th>8369</th>\n",
       "      <td>2015-04-30</td>\n",
       "      <td>7-17717</td>\n",
       "      <td>1191.375000</td>\n",
       "    </tr>\n",
       "    <tr>\n",
       "      <th>8668</th>\n",
       "      <td>2015-05-31</td>\n",
       "      <td>7-17717</td>\n",
       "      <td>1194.820513</td>\n",
       "    </tr>\n",
       "    <tr>\n",
       "      <th>8967</th>\n",
       "      <td>2015-06-30</td>\n",
       "      <td>7-17717</td>\n",
       "      <td>1176.977193</td>\n",
       "    </tr>\n",
       "    <tr>\n",
       "      <th>9266</th>\n",
       "      <td>2015-07-31</td>\n",
       "      <td>7-17717</td>\n",
       "      <td>990.500000</td>\n",
       "    </tr>\n",
       "    <tr>\n",
       "      <th>9565</th>\n",
       "      <td>2015-08-31</td>\n",
       "      <td>7-17717</td>\n",
       "      <td>915.825000</td>\n",
       "    </tr>\n",
       "    <tr>\n",
       "      <th>9864</th>\n",
       "      <td>2015-09-30</td>\n",
       "      <td>7-17717</td>\n",
       "      <td>1388.930556</td>\n",
       "    </tr>\n",
       "    <tr>\n",
       "      <th>10163</th>\n",
       "      <td>2015-10-31</td>\n",
       "      <td>7-17717</td>\n",
       "      <td>NaN</td>\n",
       "    </tr>\n",
       "  </tbody>\n",
       "</table>\n",
       "</div>"
      ],
      "text/plain": [
       "            DATE UNIQUE_ID  MONTHLY_MEAN_PRICE\n",
       "296   2013-01-31   7-17717          449.000000\n",
       "595   2013-02-28   7-17717          428.000000\n",
       "894   2013-03-31   7-17717          619.000000\n",
       "1193  2013-04-30   7-17717          390.000000\n",
       "1492  2013-05-31   7-17717          599.000000\n",
       "1791  2013-06-30   7-17717                 NaN\n",
       "2090  2013-07-31   7-17717          281.745000\n",
       "2389  2013-08-31   7-17717          239.400000\n",
       "2688  2013-09-30   7-17717          333.000000\n",
       "2987  2013-10-31   7-17717          499.000000\n",
       "3286  2013-11-30   7-17717                 NaN\n",
       "3585  2013-12-31   7-17717          364.000000\n",
       "3884  2014-01-31   7-17717         1800.000000\n",
       "4183  2014-02-28   7-17717                 NaN\n",
       "4482  2014-03-31   7-17717                 NaN\n",
       "4781  2014-04-30   7-17717          504.266667\n",
       "5080  2014-05-31   7-17717          572.404762\n",
       "5379  2014-06-30   7-17717          524.333333\n",
       "5678  2014-07-31   7-17717         1004.153846\n",
       "5977  2014-08-31   7-17717          615.220635\n",
       "6276  2014-09-30   7-17717         1026.638889\n",
       "6575  2014-10-31   7-17717          805.202381\n",
       "6874  2014-11-30   7-17717         1086.531944\n",
       "7173  2014-12-31   7-17717         1156.085632\n",
       "7472  2015-01-31   7-17717          932.831714\n",
       "7771  2015-02-28   7-17717         1078.297101\n",
       "8070  2015-03-31   7-17717          899.833333\n",
       "8369  2015-04-30   7-17717         1191.375000\n",
       "8668  2015-05-31   7-17717         1194.820513\n",
       "8967  2015-06-30   7-17717         1176.977193\n",
       "9266  2015-07-31   7-17717          990.500000\n",
       "9565  2015-08-31   7-17717          915.825000\n",
       "9864  2015-09-30   7-17717         1388.930556\n",
       "10163 2015-10-31   7-17717                 NaN"
      ]
     },
     "execution_count": 32,
     "metadata": {},
     "output_type": "execute_result"
    }
   ],
   "source": [
    "# implementar en clase diferentes estrategias de imputación\n",
    "sample_series = full_df[full_df[\"UNIQUE_ID\"] == \"7-17717\"][[\"DATE\", \"UNIQUE_ID\", \"MONTHLY_MEAN_PRICE\"]]\n",
    "sample_series"
   ]
  },
  {
   "cell_type": "code",
   "execution_count": 33,
   "id": "9145d3e8",
   "metadata": {
    "execution": {
     "iopub.execute_input": "2022-12-25T18:21:22.327926Z",
     "iopub.status.busy": "2022-12-25T18:21:22.327075Z",
     "iopub.status.idle": "2022-12-25T18:21:22.417466Z",
     "shell.execute_reply": "2022-12-25T18:21:22.416411Z"
    },
    "papermill": {
     "duration": 0.116065,
     "end_time": "2022-12-25T18:21:22.420249",
     "exception": false,
     "start_time": "2022-12-25T18:21:22.304184",
     "status": "completed"
    },
    "tags": []
   },
   "outputs": [],
   "source": [
    "full_df[\"MONTHLY_MEAN_PRICE\"] = full_df.groupby(\"UNIQUE_ID\")[\"MONTHLY_MEAN_PRICE\"].apply(lambda series: series.backfill().ffill())"
   ]
  },
  {
   "cell_type": "code",
   "execution_count": 34,
   "id": "df348f09",
   "metadata": {
    "execution": {
     "iopub.execute_input": "2022-12-25T18:21:22.467666Z",
     "iopub.status.busy": "2022-12-25T18:21:22.467250Z",
     "iopub.status.idle": "2022-12-25T18:21:22.474849Z",
     "shell.execute_reply": "2022-12-25T18:21:22.473761Z"
    },
    "papermill": {
     "duration": 0.033796,
     "end_time": "2022-12-25T18:21:22.477013",
     "exception": false,
     "start_time": "2022-12-25T18:21:22.443217",
     "status": "completed"
    },
    "tags": []
   },
   "outputs": [],
   "source": [
    "del df, cartesian_product, unique_id, date_range, add_info, sample_series, check_months"
   ]
  },
  {
   "cell_type": "markdown",
   "id": "ed947083",
   "metadata": {
    "papermill": {
     "duration": 0.022323,
     "end_time": "2022-12-25T18:21:22.521653",
     "exception": false,
     "start_time": "2022-12-25T18:21:22.499330",
     "status": "completed"
    },
    "tags": []
   },
   "source": [
    "<a id='eda'></a>\n",
    "### EDA\n",
    "[Volver al índice](#index)<br>"
   ]
  },
  {
   "cell_type": "markdown",
   "id": "f758be61",
   "metadata": {
    "papermill": {
     "duration": 0.022127,
     "end_time": "2022-12-25T18:21:22.566039",
     "exception": false,
     "start_time": "2022-12-25T18:21:22.543912",
     "status": "completed"
    },
    "tags": []
   },
   "source": [
    "Ahora por fin tenemos un full_df con todos los registros y con los valores imputados.\n",
    "\n",
    "Vamos a hacer un EDA rápido para ver como son nuestras Series Temporales y coger algunas ideas para futuras variables que vamos a implementar.\n",
    "\n",
    "Al tratarse este notebook del benchmark, vamos a explorar de manera muy superficial el dataset. En posteriores ejecuciones analizaremos el dataset en más detalle, construiremos nuevas variables y volveremos a entrenar nuestro modelo."
   ]
  },
  {
   "cell_type": "markdown",
   "id": "174a4652",
   "metadata": {
    "papermill": {
     "duration": 0.021998,
     "end_time": "2022-12-25T18:21:22.610614",
     "exception": false,
     "start_time": "2022-12-25T18:21:22.588616",
     "status": "completed"
    },
    "tags": []
   },
   "source": [
    "<a id='eda_global_sales'></a>\n",
    "### --> 1. EDA: Global Sales\n",
    "[Volver al índice](#index)<br>"
   ]
  },
  {
   "cell_type": "code",
   "execution_count": 35,
   "id": "1c3e636b",
   "metadata": {
    "execution": {
     "iopub.execute_input": "2022-12-25T18:21:22.656720Z",
     "iopub.status.busy": "2022-12-25T18:21:22.656066Z",
     "iopub.status.idle": "2022-12-25T18:21:22.662079Z",
     "shell.execute_reply": "2022-12-25T18:21:22.661146Z"
    },
    "papermill": {
     "duration": 0.032195,
     "end_time": "2022-12-25T18:21:22.664784",
     "exception": false,
     "start_time": "2022-12-25T18:21:22.632589",
     "status": "completed"
    },
    "tags": []
   },
   "outputs": [],
   "source": [
    "def plot_ts_acf_pacf(y, title):\n",
    "    '''\n",
    "    Plots the ts you pass and the acf and pacf.\n",
    "    '''\n",
    "    fig = plt.figure(figsize = (12, 10))\n",
    "    ax1, ax2, ax3 = fig.subplots(3, 1)\n",
    "\n",
    "    ax1.plot(y)\n",
    "    plot_acf(x = y, ax = ax2)\n",
    "    plot_pacf(x = y, ax = ax3)\n",
    "\n",
    "    plt.suptitle(t = title, fontsize = 20)"
   ]
  },
  {
   "cell_type": "code",
   "execution_count": 36,
   "id": "893fadf9",
   "metadata": {
    "execution": {
     "iopub.execute_input": "2022-12-25T18:21:22.712487Z",
     "iopub.status.busy": "2022-12-25T18:21:22.712069Z",
     "iopub.status.idle": "2022-12-25T18:21:22.723617Z",
     "shell.execute_reply": "2022-12-25T18:21:22.722839Z"
    },
    "papermill": {
     "duration": 0.038389,
     "end_time": "2022-12-25T18:21:22.726176",
     "exception": false,
     "start_time": "2022-12-25T18:21:22.687787",
     "status": "completed"
    },
    "tags": []
   },
   "outputs": [],
   "source": [
    "y = full_df.set_index(\"DATE\").resample(\"M\")[\"MONTHLY_SALES\"].sum()"
   ]
  },
  {
   "cell_type": "code",
   "execution_count": 37,
   "id": "d92427cf",
   "metadata": {
    "execution": {
     "iopub.execute_input": "2022-12-25T18:21:22.774894Z",
     "iopub.status.busy": "2022-12-25T18:21:22.774238Z",
     "iopub.status.idle": "2022-12-25T18:21:23.383135Z",
     "shell.execute_reply": "2022-12-25T18:21:23.382008Z"
    },
    "papermill": {
     "duration": 0.635484,
     "end_time": "2022-12-25T18:21:23.385591",
     "exception": false,
     "start_time": "2022-12-25T18:21:22.750107",
     "status": "completed"
    },
    "tags": []
   },
   "outputs": [
    {
     "name": "stderr",
     "output_type": "stream",
     "text": [
      "/opt/conda/lib/python3.7/site-packages/statsmodels/graphics/tsaplots.py:353: FutureWarning: The default method 'yw' can produce PACF values outside of the [-1,1] interval. After 0.13, the default will change tounadjusted Yule-Walker ('ywm'). You can use this method now by setting method='ywm'.\n",
      "  FutureWarning,\n"
     ]
    },
    {
     "data": {
      "image/png": "[encoded data removed]",
      "text/plain": [
       "<Figure size 864x720 with 3 Axes>"
      ]
     },
     "metadata": {
      "needs_background": "light"
     },
     "output_type": "display_data"
    }
   ],
   "source": [
    "plot_ts_acf_pacf(y = y, title = \"Monthly Sales for all items in all shops\");"
   ]
  },
  {
   "cell_type": "markdown",
   "id": "aca9a268",
   "metadata": {
    "papermill": {
     "duration": 0.022782,
     "end_time": "2022-12-25T18:21:23.431783",
     "exception": false,
     "start_time": "2022-12-25T18:21:23.409001",
     "status": "completed"
    },
    "tags": []
   },
   "source": [
    "Nota importante: nos estamos ayudando del gráfico de acf y pacf, pero no vamos a entrenar un modelo ARIMA.\n",
    "\n",
    "Para resolver el problema que se nos plantea: 299 Series Temporales diferentes tendríamos que entrenar 299 ARIMAs. En cambio, con el algoritmo de XGBoost podríamos entrenar 1 único modelo.\n",
    "\n",
    "Ahora bien, al contrario que ARIMA (que internamente construye las variables necesarias), para XGBoost debemos ser explícitos y suministrarle todas y cada una de las variables necesarias.\n",
    "\n",
    "Del gráfico anterior ya podemos observar que las variables de lags pueden ser muy relevantes.\n",
    "\n",
    "IDEA para los alumnos: podéis intentar analizar algunas de las 299 Series Temporales de manera individual para ver su comportamiento."
   ]
  },
  {
   "cell_type": "markdown",
   "id": "15714f34",
   "metadata": {
    "papermill": {
     "duration": 0.023211,
     "end_time": "2022-12-25T18:21:23.477649",
     "exception": false,
     "start_time": "2022-12-25T18:21:23.454438",
     "status": "completed"
    },
    "tags": []
   },
   "source": [
    "<a id='eda_top_3_cities'></a>\n",
    "### --> 2. EDA: Top 3 Cities\n",
    "[Volver al índice](#index)<br>"
   ]
  },
  {
   "cell_type": "code",
   "execution_count": 38,
   "id": "6611fd72",
   "metadata": {
    "execution": {
     "iopub.execute_input": "2022-12-25T18:21:23.525896Z",
     "iopub.status.busy": "2022-12-25T18:21:23.524827Z",
     "iopub.status.idle": "2022-12-25T18:21:23.897855Z",
     "shell.execute_reply": "2022-12-25T18:21:23.896617Z"
    },
    "papermill": {
     "duration": 0.399549,
     "end_time": "2022-12-25T18:21:23.900442",
     "exception": false,
     "start_time": "2022-12-25T18:21:23.500893",
     "status": "completed"
    },
    "tags": []
   },
   "outputs": [
    {
     "data": {
      "image/png": "[encoded data removed]",
      "text/plain": [
       "<Figure size 864x288 with 1 Axes>"
      ]
     },
     "metadata": {
      "needs_background": "light"
     },
     "output_type": "display_data"
    }
   ],
   "source": [
    "full_df.groupby([\"CITY_NAME\"])[\"MONTHLY_SALES\"].sum().sort_values(ascending = False).plot(kind = \"bar\", figsize = (12, 4));"
   ]
  },
  {
   "cell_type": "markdown",
   "id": "feacc799",
   "metadata": {
    "papermill": {
     "duration": 0.023796,
     "end_time": "2022-12-25T18:21:23.948538",
     "exception": false,
     "start_time": "2022-12-25T18:21:23.924742",
     "status": "completed"
    },
    "tags": []
   },
   "source": [
    "<a id='eda_top_3_categories'></a>\n",
    "### --> 3. EDA: Top 3 Categories\n",
    "[Volver al índice](#index)<br>"
   ]
  },
  {
   "cell_type": "code",
   "execution_count": 39,
   "id": "e7717408",
   "metadata": {
    "execution": {
     "iopub.execute_input": "2022-12-25T18:21:23.998475Z",
     "iopub.status.busy": "2022-12-25T18:21:23.998043Z",
     "iopub.status.idle": "2022-12-25T18:21:24.451295Z",
     "shell.execute_reply": "2022-12-25T18:21:24.449986Z"
    },
    "papermill": {
     "duration": 0.481244,
     "end_time": "2022-12-25T18:21:24.453930",
     "exception": false,
     "start_time": "2022-12-25T18:21:23.972686",
     "status": "completed"
    },
    "tags": []
   },
   "outputs": [
    {
     "data": {
      "image/png": "[encoded data removed]",
      "text/plain": [
       "<Figure size 864x288 with 1 Axes>"
      ]
     },
     "metadata": {
      "needs_background": "light"
     },
     "output_type": "display_data"
    }
   ],
   "source": [
    "full_df.groupby([\"ITEM_CATEGORY_NAME\"])[\"MONTHLY_SALES\"].sum().sort_values(ascending = False).plot(kind = \"bar\", figsize = (12, 4));"
   ]
  },
  {
   "cell_type": "markdown",
   "id": "23cb5f97",
   "metadata": {
    "papermill": {
     "duration": 0.023986,
     "end_time": "2022-12-25T18:21:24.502385",
     "exception": false,
     "start_time": "2022-12-25T18:21:24.478399",
     "status": "completed"
    },
    "tags": []
   },
   "source": [
    "<a id='build_ts_features'></a>\n",
    "### Build Time Series Features (**CORE IDEA**)\n",
    "[Volver al índice](#index)<br>"
   ]
  },
  {
   "cell_type": "markdown",
   "id": "e9caf1f0",
   "metadata": {
    "papermill": {
     "duration": 0.023954,
     "end_time": "2022-12-25T18:21:24.550345",
     "exception": false,
     "start_time": "2022-12-25T18:21:24.526391",
     "status": "completed"
    },
    "tags": []
   },
   "source": [
    "Dado que vamos a tener que iterar muchas veces sobre nuestro dataset, nos interesa tener todo encapsulado en funciones para su reutilización.\n",
    "\n",
    "Uno de los apartados clave será la generación de variables.\n",
    "\n",
    "Como hemos visto antes, nuestro dataset contiene 299 Series Temporales.\n",
    "\n",
    "Algunas de estas Series Temporales las podemos agrupar para sacar nueva información.\n",
    "\n",
    "Por ejemplo, podemos construir una variables del estilo:\n",
    "\n",
    "1. Las ventas totales por ITEM_ID (la menor granularidad posible).\n",
    "2. Las ventas totales por ITEM_CATEGORY_ID y SHOP_ID (una granularidad mayor a la 1).\n",
    "3. Las ventas totales por SHOP_ID (una granularidad mayor).\n",
    "4. Y todas las combinaciones que queramos intermedias."
   ]
  },
  {
   "cell_type": "code",
   "execution_count": 40,
   "id": "acf01222",
   "metadata": {
    "execution": {
     "iopub.execute_input": "2022-12-25T18:21:24.600839Z",
     "iopub.status.busy": "2022-12-25T18:21:24.600399Z",
     "iopub.status.idle": "2022-12-25T18:21:24.616973Z",
     "shell.execute_reply": "2022-12-25T18:21:24.615677Z"
    },
    "papermill": {
     "duration": 0.045201,
     "end_time": "2022-12-25T18:21:24.619482",
     "exception": false,
     "start_time": "2022-12-25T18:21:24.574281",
     "status": "completed"
    },
    "tags": []
   },
   "outputs": [
    {
     "data": {
      "text/html": [
       "<div>\n",
       "<style scoped>\n",
       "    .dataframe tbody tr th:only-of-type {\n",
       "        vertical-align: middle;\n",
       "    }\n",
       "\n",
       "    .dataframe tbody tr th {\n",
       "        vertical-align: top;\n",
       "    }\n",
       "\n",
       "    .dataframe thead th {\n",
       "        text-align: right;\n",
       "    }\n",
       "</style>\n",
       "<table border=\"1\" class=\"dataframe\">\n",
       "  <thead>\n",
       "    <tr style=\"text-align: right;\">\n",
       "      <th></th>\n",
       "      <th>5778</th>\n",
       "      <th>8585</th>\n",
       "      <th>9937</th>\n",
       "      <th>6938</th>\n",
       "      <th>2601</th>\n",
       "    </tr>\n",
       "  </thead>\n",
       "  <tbody>\n",
       "    <tr>\n",
       "      <th>DATE</th>\n",
       "      <td>2014-08-31 00:00:00</td>\n",
       "      <td>2015-05-31 00:00:00</td>\n",
       "      <td>2015-10-31 00:00:00</td>\n",
       "      <td>2014-12-31 00:00:00</td>\n",
       "      <td>2013-09-30 00:00:00</td>\n",
       "    </tr>\n",
       "    <tr>\n",
       "      <th>UNIQUE_ID</th>\n",
       "      <td>28-20608</td>\n",
       "      <td>47-5822</td>\n",
       "      <td>25-2308</td>\n",
       "      <td>25-14931</td>\n",
       "      <td>47-20949</td>\n",
       "    </tr>\n",
       "    <tr>\n",
       "      <th>MONTHLY_SALES</th>\n",
       "      <td>24.0</td>\n",
       "      <td>9.0</td>\n",
       "      <td>0.0</td>\n",
       "      <td>35.0</td>\n",
       "      <td>136.0</td>\n",
       "    </tr>\n",
       "    <tr>\n",
       "      <th>MONTHLY_REVENUE</th>\n",
       "      <td>31176.0</td>\n",
       "      <td>10341.0</td>\n",
       "      <td>0.0</td>\n",
       "      <td>24465.0</td>\n",
       "      <td>680.0</td>\n",
       "    </tr>\n",
       "    <tr>\n",
       "      <th>UNIQUE_DAYS_WITH_SALES</th>\n",
       "      <td>15.0</td>\n",
       "      <td>8.0</td>\n",
       "      <td>0.0</td>\n",
       "      <td>18.0</td>\n",
       "      <td>27.0</td>\n",
       "    </tr>\n",
       "    <tr>\n",
       "      <th>TOTAL_TRANSACTIONS</th>\n",
       "      <td>15.0</td>\n",
       "      <td>8.0</td>\n",
       "      <td>0.0</td>\n",
       "      <td>18.0</td>\n",
       "      <td>27.0</td>\n",
       "    </tr>\n",
       "    <tr>\n",
       "      <th>MONTHLY_MEAN_PRICE</th>\n",
       "      <td>1299.0</td>\n",
       "      <td>1149.0</td>\n",
       "      <td>299.0</td>\n",
       "      <td>699.0</td>\n",
       "      <td>5.0</td>\n",
       "    </tr>\n",
       "    <tr>\n",
       "      <th>CITY_NAME</th>\n",
       "      <td>Moscú</td>\n",
       "      <td>Surgut</td>\n",
       "      <td>Moscú</td>\n",
       "      <td>Moscú</td>\n",
       "      <td>Surgut</td>\n",
       "    </tr>\n",
       "    <tr>\n",
       "      <th>CITY_ID</th>\n",
       "      <td>7.0</td>\n",
       "      <td>15.0</td>\n",
       "      <td>7.0</td>\n",
       "      <td>7.0</td>\n",
       "      <td>15.0</td>\n",
       "    </tr>\n",
       "    <tr>\n",
       "      <th>SHOP_NAME</th>\n",
       "      <td>centro comercial de Moscú \"MEGA Teply Stan\" II</td>\n",
       "      <td>Surgut SEC \"City Mall\"</td>\n",
       "      <td>Moscú SEC \"Atrium\"</td>\n",
       "      <td>Moscú SEC \"Atrium\"</td>\n",
       "      <td>Surgut SEC \"City Mall\"</td>\n",
       "    </tr>\n",
       "    <tr>\n",
       "      <th>SHOP_ID</th>\n",
       "      <td>28</td>\n",
       "      <td>47</td>\n",
       "      <td>25</td>\n",
       "      <td>25</td>\n",
       "      <td>47</td>\n",
       "    </tr>\n",
       "    <tr>\n",
       "      <th>ITEM_CATEGORY_NAME</th>\n",
       "      <td>Regalos - Figuras</td>\n",
       "      <td>Las tarjetas de pago - PSN</td>\n",
       "      <td>Juegos PC - Standard Edition</td>\n",
       "      <td>Regalos - Recuerdos</td>\n",
       "      <td>Regalos - Bolsas, álbumes, Mats d / ratón</td>\n",
       "    </tr>\n",
       "    <tr>\n",
       "      <th>ITEM_CATEGORY_ID</th>\n",
       "      <td>72</td>\n",
       "      <td>35</td>\n",
       "      <td>30</td>\n",
       "      <td>69</td>\n",
       "      <td>71</td>\n",
       "    </tr>\n",
       "    <tr>\n",
       "      <th>ITEM_NAME</th>\n",
       "      <td>Minecraft Series 1 Player Pack de supervivencia 3</td>\n",
       "      <td>PlayStation Tienda Reposición de la billetera:...</td>\n",
       "      <td>Call of Duty: Black Ops II [PC, Jewel, versión...</td>\n",
       "      <td>Magia Ball 8 Original</td>\n",
       "      <td>Paquete corporativo Mike 1C Interés blanco (34...</td>\n",
       "    </tr>\n",
       "    <tr>\n",
       "      <th>ITEM_ID</th>\n",
       "      <td>20608</td>\n",
       "      <td>5822</td>\n",
       "      <td>2308</td>\n",
       "      <td>14931</td>\n",
       "      <td>20949</td>\n",
       "    </tr>\n",
       "  </tbody>\n",
       "</table>\n",
       "</div>"
      ],
      "text/plain": [
       "                                                                     5778  \\\n",
       "DATE                                                  2014-08-31 00:00:00   \n",
       "UNIQUE_ID                                                        28-20608   \n",
       "MONTHLY_SALES                                                        24.0   \n",
       "MONTHLY_REVENUE                                                   31176.0   \n",
       "UNIQUE_DAYS_WITH_SALES                                               15.0   \n",
       "TOTAL_TRANSACTIONS                                                   15.0   \n",
       "MONTHLY_MEAN_PRICE                                                 1299.0   \n",
       "CITY_NAME                                                           Moscú   \n",
       "CITY_ID                                                               7.0   \n",
       "SHOP_NAME                  centro comercial de Moscú \"MEGA Teply Stan\" II   \n",
       "SHOP_ID                                                                28   \n",
       "ITEM_CATEGORY_NAME                                      Regalos - Figuras   \n",
       "ITEM_CATEGORY_ID                                                       72   \n",
       "ITEM_NAME               Minecraft Series 1 Player Pack de supervivencia 3   \n",
       "ITEM_ID                                                             20608   \n",
       "\n",
       "                                                                     8585  \\\n",
       "DATE                                                  2015-05-31 00:00:00   \n",
       "UNIQUE_ID                                                         47-5822   \n",
       "MONTHLY_SALES                                                         9.0   \n",
       "MONTHLY_REVENUE                                                   10341.0   \n",
       "UNIQUE_DAYS_WITH_SALES                                                8.0   \n",
       "TOTAL_TRANSACTIONS                                                    8.0   \n",
       "MONTHLY_MEAN_PRICE                                                 1149.0   \n",
       "CITY_NAME                                                          Surgut   \n",
       "CITY_ID                                                              15.0   \n",
       "SHOP_NAME                                          Surgut SEC \"City Mall\"   \n",
       "SHOP_ID                                                                47   \n",
       "ITEM_CATEGORY_NAME                             Las tarjetas de pago - PSN   \n",
       "ITEM_CATEGORY_ID                                                       35   \n",
       "ITEM_NAME               PlayStation Tienda Reposición de la billetera:...   \n",
       "ITEM_ID                                                              5822   \n",
       "\n",
       "                                                                     9937  \\\n",
       "DATE                                                  2015-10-31 00:00:00   \n",
       "UNIQUE_ID                                                         25-2308   \n",
       "MONTHLY_SALES                                                         0.0   \n",
       "MONTHLY_REVENUE                                                       0.0   \n",
       "UNIQUE_DAYS_WITH_SALES                                                0.0   \n",
       "TOTAL_TRANSACTIONS                                                    0.0   \n",
       "MONTHLY_MEAN_PRICE                                                  299.0   \n",
       "CITY_NAME                                                           Moscú   \n",
       "CITY_ID                                                               7.0   \n",
       "SHOP_NAME                                              Moscú SEC \"Atrium\"   \n",
       "SHOP_ID                                                                25   \n",
       "ITEM_CATEGORY_NAME                           Juegos PC - Standard Edition   \n",
       "ITEM_CATEGORY_ID                                                       30   \n",
       "ITEM_NAME               Call of Duty: Black Ops II [PC, Jewel, versión...   \n",
       "ITEM_ID                                                              2308   \n",
       "\n",
       "                                         6938  \\\n",
       "DATE                      2014-12-31 00:00:00   \n",
       "UNIQUE_ID                            25-14931   \n",
       "MONTHLY_SALES                            35.0   \n",
       "MONTHLY_REVENUE                       24465.0   \n",
       "UNIQUE_DAYS_WITH_SALES                   18.0   \n",
       "TOTAL_TRANSACTIONS                       18.0   \n",
       "MONTHLY_MEAN_PRICE                      699.0   \n",
       "CITY_NAME                               Moscú   \n",
       "CITY_ID                                   7.0   \n",
       "SHOP_NAME                  Moscú SEC \"Atrium\"   \n",
       "SHOP_ID                                    25   \n",
       "ITEM_CATEGORY_NAME        Regalos - Recuerdos   \n",
       "ITEM_CATEGORY_ID                           69   \n",
       "ITEM_NAME               Magia Ball 8 Original   \n",
       "ITEM_ID                                 14931   \n",
       "\n",
       "                                                                     2601  \n",
       "DATE                                                  2013-09-30 00:00:00  \n",
       "UNIQUE_ID                                                        47-20949  \n",
       "MONTHLY_SALES                                                       136.0  \n",
       "MONTHLY_REVENUE                                                     680.0  \n",
       "UNIQUE_DAYS_WITH_SALES                                               27.0  \n",
       "TOTAL_TRANSACTIONS                                                   27.0  \n",
       "MONTHLY_MEAN_PRICE                                                    5.0  \n",
       "CITY_NAME                                                          Surgut  \n",
       "CITY_ID                                                              15.0  \n",
       "SHOP_NAME                                          Surgut SEC \"City Mall\"  \n",
       "SHOP_ID                                                                47  \n",
       "ITEM_CATEGORY_NAME              Regalos - Bolsas, álbumes, Mats d / ratón  \n",
       "ITEM_CATEGORY_ID                                                       71  \n",
       "ITEM_NAME               Paquete corporativo Mike 1C Interés blanco (34...  \n",
       "ITEM_ID                                                             20949  "
      ]
     },
     "execution_count": 40,
     "metadata": {},
     "output_type": "execute_result"
    }
   ],
   "source": [
    "full_df.sample(5).T"
   ]
  },
  {
   "cell_type": "code",
   "execution_count": 41,
   "id": "61454796",
   "metadata": {
    "execution": {
     "iopub.execute_input": "2022-12-25T18:21:24.671407Z",
     "iopub.status.busy": "2022-12-25T18:21:24.670332Z",
     "iopub.status.idle": "2022-12-25T18:21:24.678730Z",
     "shell.execute_reply": "2022-12-25T18:21:24.677485Z"
    },
    "papermill": {
     "duration": 0.036788,
     "end_time": "2022-12-25T18:21:24.681073",
     "exception": false,
     "start_time": "2022-12-25T18:21:24.644285",
     "status": "completed"
    },
    "tags": []
   },
   "outputs": [],
   "source": [
    "def build_ts_vars(full_df, gb_list, target_column, agg_func, agg_func_name, verbose = True):\n",
    "    \n",
    "    assert gb_list[0] == \"DATE\", \"First element must be date\"\n",
    "    \n",
    "    new_name = \"_\".join(gb_list + [target_column] + [agg_func_name])\n",
    "    \n",
    "    if verbose: print(new_name)\n",
    "\n",
    "    gb_df_ = full_df.groupby(gb_list)[target_column].apply(agg_func).to_frame().reset_index().rename(\n",
    "        columns = {\n",
    "            target_column : new_name\n",
    "        }\n",
    "    )\n",
    "\n",
    "    gb_df_[f\"{new_name}_LAG1\"] = gb_df_.groupby(gb_list[1:])[new_name].transform(\n",
    "        lambda series: series.shift(1)\n",
    "    )\n",
    "    \n",
    "    return gb_df_"
   ]
  },
  {
   "cell_type": "code",
   "execution_count": 42,
   "id": "28b7eb06",
   "metadata": {
    "execution": {
     "iopub.execute_input": "2022-12-25T18:21:24.733079Z",
     "iopub.status.busy": "2022-12-25T18:21:24.731651Z",
     "iopub.status.idle": "2022-12-25T18:21:24.908347Z",
     "shell.execute_reply": "2022-12-25T18:21:24.907233Z"
    },
    "papermill": {
     "duration": 0.205108,
     "end_time": "2022-12-25T18:21:24.910893",
     "exception": false,
     "start_time": "2022-12-25T18:21:24.705785",
     "status": "completed"
    },
    "tags": []
   },
   "outputs": [
    {
     "name": "stdout",
     "output_type": "stream",
     "text": [
      "DATE_SHOP_ID_MONTHLY_SALES_SUM\n"
     ]
    },
    {
     "data": {
      "text/html": [
       "<div>\n",
       "<style scoped>\n",
       "    .dataframe tbody tr th:only-of-type {\n",
       "        vertical-align: middle;\n",
       "    }\n",
       "\n",
       "    .dataframe tbody tr th {\n",
       "        vertical-align: top;\n",
       "    }\n",
       "\n",
       "    .dataframe thead th {\n",
       "        text-align: right;\n",
       "    }\n",
       "</style>\n",
       "<table border=\"1\" class=\"dataframe\">\n",
       "  <thead>\n",
       "    <tr style=\"text-align: right;\">\n",
       "      <th></th>\n",
       "      <th>DATE</th>\n",
       "      <th>SHOP_ID</th>\n",
       "      <th>DATE_SHOP_ID_MONTHLY_SALES_SUM</th>\n",
       "      <th>DATE_SHOP_ID_MONTHLY_SALES_SUM_LAG1</th>\n",
       "    </tr>\n",
       "  </thead>\n",
       "  <tbody>\n",
       "    <tr>\n",
       "      <th>243</th>\n",
       "      <td>2013-07-31</td>\n",
       "      <td>6</td>\n",
       "      <td>199.0</td>\n",
       "      <td>258.0</td>\n",
       "    </tr>\n",
       "    <tr>\n",
       "      <th>622</th>\n",
       "      <td>2014-04-30</td>\n",
       "      <td>38</td>\n",
       "      <td>67.0</td>\n",
       "      <td>90.0</td>\n",
       "    </tr>\n",
       "    <tr>\n",
       "      <th>387</th>\n",
       "      <td>2013-10-31</td>\n",
       "      <td>45</td>\n",
       "      <td>85.0</td>\n",
       "      <td>93.0</td>\n",
       "    </tr>\n",
       "    <tr>\n",
       "      <th>237</th>\n",
       "      <td>2013-06-30</td>\n",
       "      <td>57</td>\n",
       "      <td>451.0</td>\n",
       "      <td>138.0</td>\n",
       "    </tr>\n",
       "    <tr>\n",
       "      <th>83</th>\n",
       "      <td>2013-03-31</td>\n",
       "      <td>6</td>\n",
       "      <td>47.0</td>\n",
       "      <td>48.0</td>\n",
       "    </tr>\n",
       "    <tr>\n",
       "      <th>288</th>\n",
       "      <td>2013-08-31</td>\n",
       "      <td>15</td>\n",
       "      <td>142.0</td>\n",
       "      <td>128.0</td>\n",
       "    </tr>\n",
       "    <tr>\n",
       "      <th>814</th>\n",
       "      <td>2014-09-30</td>\n",
       "      <td>24</td>\n",
       "      <td>178.0</td>\n",
       "      <td>187.0</td>\n",
       "    </tr>\n",
       "    <tr>\n",
       "      <th>263</th>\n",
       "      <td>2013-07-31</td>\n",
       "      <td>39</td>\n",
       "      <td>0.0</td>\n",
       "      <td>0.0</td>\n",
       "    </tr>\n",
       "    <tr>\n",
       "      <th>644</th>\n",
       "      <td>2014-05-31</td>\n",
       "      <td>7</td>\n",
       "      <td>98.0</td>\n",
       "      <td>139.0</td>\n",
       "    </tr>\n",
       "    <tr>\n",
       "      <th>1206</th>\n",
       "      <td>2015-07-31</td>\n",
       "      <td>12</td>\n",
       "      <td>380.0</td>\n",
       "      <td>395.0</td>\n",
       "    </tr>\n",
       "  </tbody>\n",
       "</table>\n",
       "</div>"
      ],
      "text/plain": [
       "           DATE  SHOP_ID  DATE_SHOP_ID_MONTHLY_SALES_SUM  \\\n",
       "243  2013-07-31        6                           199.0   \n",
       "622  2014-04-30       38                            67.0   \n",
       "387  2013-10-31       45                            85.0   \n",
       "237  2013-06-30       57                           451.0   \n",
       "83   2013-03-31        6                            47.0   \n",
       "288  2013-08-31       15                           142.0   \n",
       "814  2014-09-30       24                           178.0   \n",
       "263  2013-07-31       39                             0.0   \n",
       "644  2014-05-31        7                            98.0   \n",
       "1206 2015-07-31       12                           380.0   \n",
       "\n",
       "      DATE_SHOP_ID_MONTHLY_SALES_SUM_LAG1  \n",
       "243                                 258.0  \n",
       "622                                  90.0  \n",
       "387                                  93.0  \n",
       "237                                 138.0  \n",
       "83                                   48.0  \n",
       "288                                 128.0  \n",
       "814                                 187.0  \n",
       "263                                   0.0  \n",
       "644                                 139.0  \n",
       "1206                                395.0  "
      ]
     },
     "execution_count": 42,
     "metadata": {},
     "output_type": "execute_result"
    }
   ],
   "source": [
    "GB_LIST_SHOP_ID = [\"DATE\", \"SHOP_ID\"]\n",
    "TARGET_COLUMN = \"MONTHLY_SALES\"\n",
    "AGG_FUNC = np.sum\n",
    "AGG_FUNC_NAME = \"SUM\"\n",
    "\n",
    "vars_ts_shop_id = build_ts_vars(\n",
    "    full_df = full_df,\n",
    "    gb_list = GB_LIST_SHOP_ID,\n",
    "    target_column = TARGET_COLUMN,\n",
    "    agg_func = AGG_FUNC,\n",
    "    agg_func_name =  AGG_FUNC_NAME\n",
    "    \n",
    ")\n",
    "\n",
    "vars_ts_shop_id.sample(10)"
   ]
  },
  {
   "cell_type": "markdown",
   "id": "81ec5de5",
   "metadata": {
    "papermill": {
     "duration": 0.029372,
     "end_time": "2022-12-25T18:21:24.965434",
     "exception": false,
     "start_time": "2022-12-25T18:21:24.936062",
     "status": "completed"
    },
    "tags": []
   },
   "source": [
    "<a id='join_ts_features'></a>\n",
    "### Join TS Features\n",
    "[Volver al índice](#index)<br>"
   ]
  },
  {
   "cell_type": "markdown",
   "id": "165af29c",
   "metadata": {
    "papermill": {
     "duration": 0.02443,
     "end_time": "2022-12-25T18:21:25.014558",
     "exception": false,
     "start_time": "2022-12-25T18:21:24.990128",
     "status": "completed"
    },
    "tags": []
   },
   "source": [
    "En este apartado, hacemos el merge del full_df con las variables auxiliares.\n",
    "\n",
    "Debemos controlar muy bien el merge, para no provocar un cartesiano."
   ]
  },
  {
   "cell_type": "code",
   "execution_count": 43,
   "id": "39402209",
   "metadata": {
    "execution": {
     "iopub.execute_input": "2022-12-25T18:21:25.065855Z",
     "iopub.status.busy": "2022-12-25T18:21:25.065444Z",
     "iopub.status.idle": "2022-12-25T18:21:25.085154Z",
     "shell.execute_reply": "2022-12-25T18:21:25.083693Z"
    },
    "papermill": {
     "duration": 0.048568,
     "end_time": "2022-12-25T18:21:25.087892",
     "exception": false,
     "start_time": "2022-12-25T18:21:25.039324",
     "status": "completed"
    },
    "tags": []
   },
   "outputs": [
    {
     "name": "stdout",
     "output_type": "stream",
     "text": [
      "Shape before merge is 10166\n",
      "Shape after merge is 10166\n"
     ]
    }
   ],
   "source": [
    "rows_before_merge = full_df.shape[0]\n",
    "print(f\"Shape before merge is {rows_before_merge}\")\n",
    "\n",
    "full_df = pd.merge(full_df, vars_ts_shop_id, on = GB_LIST_SHOP_ID, how = \"left\")\n",
    "\n",
    "rows_after_merge = full_df.shape[0]\n",
    "\n",
    "print(f\"Shape after merge is {rows_after_merge}\")\n",
    "\n",
    "assert rows_before_merge == rows_after_merge, \"You have generated a cartesian product!\""
   ]
  },
  {
   "cell_type": "code",
   "execution_count": 44,
   "id": "cc7845cf",
   "metadata": {
    "execution": {
     "iopub.execute_input": "2022-12-25T18:21:25.139087Z",
     "iopub.status.busy": "2022-12-25T18:21:25.138659Z",
     "iopub.status.idle": "2022-12-25T18:21:25.148932Z",
     "shell.execute_reply": "2022-12-25T18:21:25.147974Z"
    },
    "papermill": {
     "duration": 0.03877,
     "end_time": "2022-12-25T18:21:25.151496",
     "exception": false,
     "start_time": "2022-12-25T18:21:25.112726",
     "status": "completed"
    },
    "tags": []
   },
   "outputs": [],
   "source": [
    "full_df.to_pickle(\"FULL_DF_ALL_FEATURES.pkl\")"
   ]
  },
  {
   "cell_type": "markdown",
   "id": "bf2c6038",
   "metadata": {
    "papermill": {
     "duration": 0.024236,
     "end_time": "2022-12-25T18:21:25.200977",
     "exception": false,
     "start_time": "2022-12-25T18:21:25.176741",
     "status": "completed"
    },
    "tags": []
   },
   "source": [
    "<a id='train_test_split'></a>\n",
    "### Train Test Split\n",
    "[Volver al índice](#index)<br>"
   ]
  },
  {
   "cell_type": "code",
   "execution_count": 45,
   "id": "e59fb5cd",
   "metadata": {
    "execution": {
     "iopub.execute_input": "2022-12-25T18:21:25.252324Z",
     "iopub.status.busy": "2022-12-25T18:21:25.251618Z",
     "iopub.status.idle": "2022-12-25T18:21:25.262622Z",
     "shell.execute_reply": "2022-12-25T18:21:25.261827Z"
    },
    "papermill": {
     "duration": 0.039271,
     "end_time": "2022-12-25T18:21:25.264936",
     "exception": false,
     "start_time": "2022-12-25T18:21:25.225665",
     "status": "completed"
    },
    "tags": []
   },
   "outputs": [],
   "source": [
    "# explicar en clase el motivo del np.clip con el RMSE\n",
    "\n",
    "full_df = pd.read_pickle(\"FULL_DF_ALL_FEATURES.pkl\")\n",
    "full_df[\"MONTHLY_SALES\"] = np.clip(full_df[\"MONTHLY_SALES\"], 0, 30)"
   ]
  },
  {
   "cell_type": "code",
   "execution_count": 46,
   "id": "30d6f467",
   "metadata": {
    "execution": {
     "iopub.execute_input": "2022-12-25T18:21:25.317608Z",
     "iopub.status.busy": "2022-12-25T18:21:25.316940Z",
     "iopub.status.idle": "2022-12-25T18:21:25.325200Z",
     "shell.execute_reply": "2022-12-25T18:21:25.324212Z"
    },
    "papermill": {
     "duration": 0.036896,
     "end_time": "2022-12-25T18:21:25.327627",
     "exception": false,
     "start_time": "2022-12-25T18:21:25.290731",
     "status": "completed"
    },
    "tags": []
   },
   "outputs": [],
   "source": [
    "COLUMNS_TO_DROP = [\n",
    "    'MONTHLY_REVENUE',\n",
    "    'UNIQUE_DAYS_WITH_SALES',\n",
    "    'TOTAL_TRANSACTIONS',\n",
    "    'MONTHLY_MEAN_PRICE',\n",
    "    'CITY_NAME',\n",
    "    'SHOP_NAME',\n",
    "    'ITEM_CATEGORY_NAME',\n",
    "    'ITEM_NAME',\n",
    "    'DATE_SHOP_ID_MONTHLY_SALES_SUM'\n",
    "]\n",
    "\n",
    "full_df.drop(COLUMNS_TO_DROP, inplace = True, axis = 1)"
   ]
  },
  {
   "cell_type": "code",
   "execution_count": 47,
   "id": "fa177860",
   "metadata": {
    "execution": {
     "iopub.execute_input": "2022-12-25T18:21:25.381448Z",
     "iopub.status.busy": "2022-12-25T18:21:25.381045Z",
     "iopub.status.idle": "2022-12-25T18:21:25.386859Z",
     "shell.execute_reply": "2022-12-25T18:21:25.385987Z"
    },
    "papermill": {
     "duration": 0.035085,
     "end_time": "2022-12-25T18:21:25.389015",
     "exception": false,
     "start_time": "2022-12-25T18:21:25.353930",
     "status": "completed"
    },
    "tags": []
   },
   "outputs": [],
   "source": [
    "full_df.set_index(\"UNIQUE_ID\", inplace = True)"
   ]
  },
  {
   "cell_type": "code",
   "execution_count": 48,
   "id": "aabdefba",
   "metadata": {
    "execution": {
     "iopub.execute_input": "2022-12-25T18:21:25.441035Z",
     "iopub.status.busy": "2022-12-25T18:21:25.440313Z",
     "iopub.status.idle": "2022-12-25T18:21:25.456138Z",
     "shell.execute_reply": "2022-12-25T18:21:25.455270Z"
    },
    "papermill": {
     "duration": 0.044121,
     "end_time": "2022-12-25T18:21:25.458207",
     "exception": false,
     "start_time": "2022-12-25T18:21:25.414086",
     "status": "completed"
    },
    "tags": []
   },
   "outputs": [
    {
     "data": {
      "text/html": [
       "<div>\n",
       "<style scoped>\n",
       "    .dataframe tbody tr th:only-of-type {\n",
       "        vertical-align: middle;\n",
       "    }\n",
       "\n",
       "    .dataframe tbody tr th {\n",
       "        vertical-align: top;\n",
       "    }\n",
       "\n",
       "    .dataframe thead th {\n",
       "        text-align: right;\n",
       "    }\n",
       "</style>\n",
       "<table border=\"1\" class=\"dataframe\">\n",
       "  <thead>\n",
       "    <tr style=\"text-align: right;\">\n",
       "      <th></th>\n",
       "      <th>DATE</th>\n",
       "      <th>MONTHLY_SALES</th>\n",
       "      <th>CITY_ID</th>\n",
       "      <th>SHOP_ID</th>\n",
       "      <th>ITEM_CATEGORY_ID</th>\n",
       "      <th>ITEM_ID</th>\n",
       "      <th>DATE_SHOP_ID_MONTHLY_SALES_SUM_LAG1</th>\n",
       "    </tr>\n",
       "    <tr>\n",
       "      <th>UNIQUE_ID</th>\n",
       "      <th></th>\n",
       "      <th></th>\n",
       "      <th></th>\n",
       "      <th></th>\n",
       "      <th></th>\n",
       "      <th></th>\n",
       "      <th></th>\n",
       "    </tr>\n",
       "  </thead>\n",
       "  <tbody>\n",
       "    <tr>\n",
       "      <th>31-16227</th>\n",
       "      <td>2013-03-31</td>\n",
       "      <td>22.0</td>\n",
       "      <td>7.0</td>\n",
       "      <td>31</td>\n",
       "      <td>65</td>\n",
       "      <td>16227</td>\n",
       "      <td>523.0</td>\n",
       "    </tr>\n",
       "    <tr>\n",
       "      <th>16-7856</th>\n",
       "      <td>2015-08-31</td>\n",
       "      <td>2.0</td>\n",
       "      <td>4.0</td>\n",
       "      <td>16</td>\n",
       "      <td>28</td>\n",
       "      <td>7856</td>\n",
       "      <td>82.0</td>\n",
       "    </tr>\n",
       "    <tr>\n",
       "      <th>57-1905</th>\n",
       "      <td>2013-12-31</td>\n",
       "      <td>9.0</td>\n",
       "      <td>23.0</td>\n",
       "      <td>57</td>\n",
       "      <td>30</td>\n",
       "      <td>1905</td>\n",
       "      <td>702.0</td>\n",
       "    </tr>\n",
       "    <tr>\n",
       "      <th>31-5820</th>\n",
       "      <td>2014-06-30</td>\n",
       "      <td>4.0</td>\n",
       "      <td>7.0</td>\n",
       "      <td>31</td>\n",
       "      <td>35</td>\n",
       "      <td>5820</td>\n",
       "      <td>1125.0</td>\n",
       "    </tr>\n",
       "    <tr>\n",
       "      <th>47-17717</th>\n",
       "      <td>2013-02-28</td>\n",
       "      <td>0.0</td>\n",
       "      <td>15.0</td>\n",
       "      <td>47</td>\n",
       "      <td>79</td>\n",
       "      <td>17717</td>\n",
       "      <td>29.0</td>\n",
       "    </tr>\n",
       "  </tbody>\n",
       "</table>\n",
       "</div>"
      ],
      "text/plain": [
       "                DATE  MONTHLY_SALES  CITY_ID  SHOP_ID  ITEM_CATEGORY_ID  \\\n",
       "UNIQUE_ID                                                                 \n",
       "31-16227  2013-03-31           22.0      7.0       31                65   \n",
       "16-7856   2015-08-31            2.0      4.0       16                28   \n",
       "57-1905   2013-12-31            9.0     23.0       57                30   \n",
       "31-5820   2014-06-30            4.0      7.0       31                35   \n",
       "47-17717  2013-02-28            0.0     15.0       47                79   \n",
       "\n",
       "           ITEM_ID  DATE_SHOP_ID_MONTHLY_SALES_SUM_LAG1  \n",
       "UNIQUE_ID                                                \n",
       "31-16227     16227                                523.0  \n",
       "16-7856       7856                                 82.0  \n",
       "57-1905       1905                                702.0  \n",
       "31-5820       5820                               1125.0  \n",
       "47-17717     17717                                 29.0  "
      ]
     },
     "execution_count": 48,
     "metadata": {},
     "output_type": "execute_result"
    }
   ],
   "source": [
    "full_df.sample(5)"
   ]
  },
  {
   "cell_type": "code",
   "execution_count": 49,
   "id": "c00c459e",
   "metadata": {
    "execution": {
     "iopub.execute_input": "2022-12-25T18:21:25.510693Z",
     "iopub.status.busy": "2022-12-25T18:21:25.510042Z",
     "iopub.status.idle": "2022-12-25T18:21:25.516465Z",
     "shell.execute_reply": "2022-12-25T18:21:25.515675Z"
    },
    "papermill": {
     "duration": 0.035161,
     "end_time": "2022-12-25T18:21:25.518612",
     "exception": false,
     "start_time": "2022-12-25T18:21:25.483451",
     "status": "completed"
    },
    "tags": []
   },
   "outputs": [],
   "source": [
    "train_index = sorted(list(full_df[\"DATE\"].unique()))[:-2]\n",
    "\n",
    "valida_index = [sorted(list(full_df[\"DATE\"].unique()))[-2]]\n",
    "\n",
    "test_index = [sorted(list(full_df[\"DATE\"].unique()))[-1]]"
   ]
  },
  {
   "cell_type": "code",
   "execution_count": 50,
   "id": "9e8355d1",
   "metadata": {
    "execution": {
     "iopub.execute_input": "2022-12-25T18:21:25.571236Z",
     "iopub.status.busy": "2022-12-25T18:21:25.570525Z",
     "iopub.status.idle": "2022-12-25T18:21:25.587609Z",
     "shell.execute_reply": "2022-12-25T18:21:25.586409Z"
    },
    "papermill": {
     "duration": 0.046374,
     "end_time": "2022-12-25T18:21:25.590261",
     "exception": false,
     "start_time": "2022-12-25T18:21:25.543887",
     "status": "completed"
    },
    "tags": []
   },
   "outputs": [],
   "source": [
    "X_train = full_df[full_df[\"DATE\"].isin(train_index)].drop(['MONTHLY_SALES', \"DATE\"], axis=1)\n",
    "Y_train = full_df[full_df[\"DATE\"].isin(train_index)]['MONTHLY_SALES']\n",
    "\n",
    "X_valida = full_df[full_df[\"DATE\"].isin(valida_index)].drop(['MONTHLY_SALES', \"DATE\"], axis=1)\n",
    "Y_valida = full_df[full_df[\"DATE\"].isin(valida_index)]['MONTHLY_SALES']\n",
    "\n",
    "X_test = full_df[full_df[\"DATE\"].isin(test_index)].drop(['MONTHLY_SALES', \"DATE\"], axis = 1)\n",
    "Y_test = full_df[full_df[\"DATE\"].isin(test_index)]['MONTHLY_SALES']"
   ]
  },
  {
   "cell_type": "markdown",
   "id": "492ba213",
   "metadata": {
    "papermill": {
     "duration": 0.02514,
     "end_time": "2022-12-25T18:21:25.641240",
     "exception": false,
     "start_time": "2022-12-25T18:21:25.616100",
     "status": "completed"
    },
    "tags": []
   },
   "source": [
    "<a id='model_train'></a>\n",
    "### Model Train\n",
    "[Volver al índice](#index)<br>\n",
    "\n",
    "Entrenamos nuestro modelo de Machine Learning (benchmark)."
   ]
  },
  {
   "cell_type": "code",
   "execution_count": 51,
   "id": "d10ec77f",
   "metadata": {
    "execution": {
     "iopub.execute_input": "2022-12-25T18:21:25.694697Z",
     "iopub.status.busy": "2022-12-25T18:21:25.694106Z",
     "iopub.status.idle": "2022-12-25T18:21:26.316245Z",
     "shell.execute_reply": "2022-12-25T18:21:26.315202Z"
    },
    "papermill": {
     "duration": 0.651824,
     "end_time": "2022-12-25T18:21:26.318999",
     "exception": false,
     "start_time": "2022-12-25T18:21:25.667175",
     "status": "completed"
    },
    "tags": []
   },
   "outputs": [
    {
     "name": "stdout",
     "output_type": "stream",
     "text": [
      "[0]\tvalidation_0-rmse:12.23904\tvalidation_1-rmse:10.68234\n",
      "[1]\tvalidation_0-rmse:10.34501\tvalidation_1-rmse:8.80812\n",
      "[2]\tvalidation_0-rmse:9.14312\tvalidation_1-rmse:7.71132\n",
      "[3]\tvalidation_0-rmse:8.47588\tvalidation_1-rmse:7.13493\n",
      "[4]\tvalidation_0-rmse:8.08249\tvalidation_1-rmse:6.75268\n",
      "[5]\tvalidation_0-rmse:7.86980\tvalidation_1-rmse:6.58971\n",
      "[6]\tvalidation_0-rmse:7.69938\tvalidation_1-rmse:6.50562\n",
      "[7]\tvalidation_0-rmse:7.59184\tvalidation_1-rmse:6.31958\n",
      "[8]\tvalidation_0-rmse:7.50147\tvalidation_1-rmse:6.31641\n",
      "[9]\tvalidation_0-rmse:7.44398\tvalidation_1-rmse:6.32311\n",
      "[10]\tvalidation_0-rmse:7.35337\tvalidation_1-rmse:6.25201\n",
      "[11]\tvalidation_0-rmse:7.30187\tvalidation_1-rmse:6.22781\n",
      "[12]\tvalidation_0-rmse:7.24895\tvalidation_1-rmse:6.22319\n",
      "[13]\tvalidation_0-rmse:7.20696\tvalidation_1-rmse:6.23704\n",
      "[14]\tvalidation_0-rmse:7.14459\tvalidation_1-rmse:6.27415\n",
      "[15]\tvalidation_0-rmse:7.11341\tvalidation_1-rmse:6.25239\n",
      "[16]\tvalidation_0-rmse:7.05256\tvalidation_1-rmse:6.19421\n",
      "[17]\tvalidation_0-rmse:7.01547\tvalidation_1-rmse:6.19810\n",
      "[18]\tvalidation_0-rmse:6.99500\tvalidation_1-rmse:6.20658\n",
      "[19]\tvalidation_0-rmse:6.96061\tvalidation_1-rmse:6.12700\n",
      "[20]\tvalidation_0-rmse:6.92990\tvalidation_1-rmse:6.16316\n",
      "[21]\tvalidation_0-rmse:6.91622\tvalidation_1-rmse:6.16497\n",
      "[22]\tvalidation_0-rmse:6.88569\tvalidation_1-rmse:6.15270\n",
      "[23]\tvalidation_0-rmse:6.86545\tvalidation_1-rmse:6.15100\n",
      "[24]\tvalidation_0-rmse:6.82633\tvalidation_1-rmse:6.11927\n",
      "[25]\tvalidation_0-rmse:6.81117\tvalidation_1-rmse:6.12512\n",
      "[26]\tvalidation_0-rmse:6.77043\tvalidation_1-rmse:6.09490\n",
      "[27]\tvalidation_0-rmse:6.75878\tvalidation_1-rmse:6.09699\n",
      "[28]\tvalidation_0-rmse:6.73676\tvalidation_1-rmse:6.09719\n",
      "[29]\tvalidation_0-rmse:6.72164\tvalidation_1-rmse:6.10381\n",
      "[30]\tvalidation_0-rmse:6.68341\tvalidation_1-rmse:6.04196\n",
      "[31]\tvalidation_0-rmse:6.65657\tvalidation_1-rmse:6.04287\n",
      "[32]\tvalidation_0-rmse:6.64253\tvalidation_1-rmse:6.04590\n",
      "[33]\tvalidation_0-rmse:6.62499\tvalidation_1-rmse:6.03844\n",
      "[34]\tvalidation_0-rmse:6.61269\tvalidation_1-rmse:6.02893\n",
      "[35]\tvalidation_0-rmse:6.59472\tvalidation_1-rmse:6.02127\n",
      "[36]\tvalidation_0-rmse:6.56861\tvalidation_1-rmse:5.99325\n",
      "[37]\tvalidation_0-rmse:6.54865\tvalidation_1-rmse:6.04082\n",
      "[38]\tvalidation_0-rmse:6.53394\tvalidation_1-rmse:6.04245\n",
      "[39]\tvalidation_0-rmse:6.51079\tvalidation_1-rmse:6.03916\n",
      "[40]\tvalidation_0-rmse:6.48494\tvalidation_1-rmse:6.03228\n",
      "[41]\tvalidation_0-rmse:6.46080\tvalidation_1-rmse:6.03816\n",
      "[42]\tvalidation_0-rmse:6.42303\tvalidation_1-rmse:6.03734\n",
      "[43]\tvalidation_0-rmse:6.39375\tvalidation_1-rmse:6.02862\n",
      "[44]\tvalidation_0-rmse:6.36938\tvalidation_1-rmse:6.03876\n",
      "[45]\tvalidation_0-rmse:6.36032\tvalidation_1-rmse:6.03362\n",
      "[46]\tvalidation_0-rmse:6.33702\tvalidation_1-rmse:6.03355\n"
     ]
    },
    {
     "data": {
      "text/plain": [
       "XGBRegressor(base_score=0.5, booster='gbtree', callbacks=None,\n",
       "             colsample_bylevel=1, colsample_bynode=1, colsample_bytree=1,\n",
       "             early_stopping_rounds=10, enable_categorical=False,\n",
       "             eval_metric='rmse', gamma=0, gpu_id=-1, grow_policy='depthwise',\n",
       "             importance_type=None, interaction_constraints='',\n",
       "             learning_rate=0.300000012, max_bin=256, max_cat_to_onehot=4,\n",
       "             max_delta_step=0, max_depth=6, max_leaves=0, min_child_weight=1,\n",
       "             missing=nan, monotone_constraints='()', n_estimators=100, n_jobs=0,\n",
       "             num_parallel_tree=1, predictor='auto', random_state=175,\n",
       "             reg_alpha=0, reg_lambda=1, ...)"
      ]
     },
     "execution_count": 51,
     "metadata": {},
     "output_type": "execute_result"
    }
   ],
   "source": [
    "model = xgb.XGBRegressor(eval_metric = \"rmse\", early_stopping_rounds = 10, seed = 175)\n",
    "\n",
    "model_name = str(model).split(\"(\")[0]\n",
    "\n",
    "day = str(datetime.now()).split()[0].replace(\"-\", \"_\")\n",
    "hour = str(datetime.now()).split()[1].replace(\":\", \"_\").split(\".\")[0]\n",
    "t = str(day) + \"_\" + str(hour)\n",
    "\n",
    "model.fit(X_train, Y_train, \n",
    "    eval_set = [(X_train, Y_train), (X_valida, Y_valida)], \n",
    "    verbose = True)"
   ]
  },
  {
   "cell_type": "code",
   "execution_count": 52,
   "id": "54cf77b3",
   "metadata": {
    "execution": {
     "iopub.execute_input": "2022-12-25T18:21:26.386554Z",
     "iopub.status.busy": "2022-12-25T18:21:26.386157Z",
     "iopub.status.idle": "2022-12-25T18:21:26.398745Z",
     "shell.execute_reply": "2022-12-25T18:21:26.397143Z"
    },
    "papermill": {
     "duration": 0.047523,
     "end_time": "2022-12-25T18:21:26.401428",
     "exception": false,
     "start_time": "2022-12-25T18:21:26.353905",
     "status": "completed"
    },
    "tags": []
   },
   "outputs": [
    {
     "name": "stdout",
     "output_type": "stream",
     "text": [
      "XGBRegressor_2022_12_25_18_21_25.dat\n"
     ]
    }
   ],
   "source": [
    "pickle.dump(model, open(\"{}_{}.dat\".format(model_name, t), \"wb\"))\n",
    "print(\"{}_{}.dat\".format(model_name, t))"
   ]
  },
  {
   "cell_type": "markdown",
   "id": "6fc3b411",
   "metadata": {
    "papermill": {
     "duration": 0.029213,
     "end_time": "2022-12-25T18:21:26.461185",
     "exception": false,
     "start_time": "2022-12-25T18:21:26.431972",
     "status": "completed"
    },
    "tags": []
   },
   "source": [
    "<a id='model_evaluation'></a>\n",
    "### Model Evaluation (**CORE IDEA**)\n",
    "[Volver al índice](#index)<br>"
   ]
  },
  {
   "cell_type": "code",
   "execution_count": 53,
   "id": "29f4bc62",
   "metadata": {
    "execution": {
     "iopub.execute_input": "2022-12-25T18:21:26.522436Z",
     "iopub.status.busy": "2022-12-25T18:21:26.522009Z",
     "iopub.status.idle": "2022-12-25T18:21:26.811595Z",
     "shell.execute_reply": "2022-12-25T18:21:26.810487Z"
    },
    "papermill": {
     "duration": 0.323556,
     "end_time": "2022-12-25T18:21:26.814258",
     "exception": false,
     "start_time": "2022-12-25T18:21:26.490702",
     "status": "completed"
    },
    "tags": []
   },
   "outputs": [
    {
     "data": {
      "image/png": "[encoded data removed]",
      "text/plain": [
       "<Figure size 720x1080 with 1 Axes>"
      ]
     },
     "metadata": {
      "needs_background": "light"
     },
     "output_type": "display_data"
    }
   ],
   "source": [
    "importance = model.get_booster().get_score(importance_type = \"gain\")\n",
    "importance = {k: v for k, v in sorted(importance.items(), key = lambda item: item[1])}\n",
    "\n",
    "fig, ax = plt.subplots(figsize = (10, 15))\n",
    "xgb.plot_importance(model, importance_type = \"gain\", ax = ax);"
   ]
  },
  {
   "cell_type": "markdown",
   "id": "01ce99a7",
   "metadata": {
    "papermill": {
     "duration": 0.029273,
     "end_time": "2022-12-25T18:21:26.873617",
     "exception": false,
     "start_time": "2022-12-25T18:21:26.844344",
     "status": "completed"
    },
    "tags": []
   },
   "source": [
    "<a id='prediction'></a>\n",
    "### Prediction\n",
    "[Volver al índice](#index)<br>\n",
    "\n",
    "En este apartado vamos a utilizar el modelo entrenado para hacer una predicción y posteriormente enviar el submit a Kaggle."
   ]
  },
  {
   "cell_type": "code",
   "execution_count": 54,
   "id": "1dacb325",
   "metadata": {
    "execution": {
     "iopub.execute_input": "2022-12-25T18:21:26.936932Z",
     "iopub.status.busy": "2022-12-25T18:21:26.935507Z",
     "iopub.status.idle": "2022-12-25T18:21:26.945499Z",
     "shell.execute_reply": "2022-12-25T18:21:26.944628Z"
    },
    "papermill": {
     "duration": 0.043519,
     "end_time": "2022-12-25T18:21:26.948169",
     "exception": false,
     "start_time": "2022-12-25T18:21:26.904650",
     "status": "completed"
    },
    "tags": []
   },
   "outputs": [],
   "source": [
    "last_trained_model = pickle.load(open(\"{}_{}.dat\".format(model_name, t), \"rb\"))"
   ]
  },
  {
   "cell_type": "code",
   "execution_count": 55,
   "id": "6b7cd612",
   "metadata": {
    "execution": {
     "iopub.execute_input": "2022-12-25T18:21:27.010935Z",
     "iopub.status.busy": "2022-12-25T18:21:27.010529Z",
     "iopub.status.idle": "2022-12-25T18:21:27.023709Z",
     "shell.execute_reply": "2022-12-25T18:21:27.022765Z"
    },
    "papermill": {
     "duration": 0.048468,
     "end_time": "2022-12-25T18:21:27.028312",
     "exception": false,
     "start_time": "2022-12-25T18:21:26.979844",
     "status": "completed"
    },
    "tags": []
   },
   "outputs": [
    {
     "data": {
      "text/plain": [
       "5.993250763638941"
      ]
     },
     "execution_count": 55,
     "metadata": {},
     "output_type": "execute_result"
    }
   ],
   "source": [
    "Y_valida_pred = model.predict(X_valida)\n",
    "\n",
    "rmse_valida = np.sqrt(mean_squared_error(Y_valida, Y_valida_pred))\n",
    "rmse_valida"
   ]
  },
  {
   "cell_type": "code",
   "execution_count": 56,
   "id": "c2e43f31",
   "metadata": {
    "execution": {
     "iopub.execute_input": "2022-12-25T18:21:27.090848Z",
     "iopub.status.busy": "2022-12-25T18:21:27.090417Z",
     "iopub.status.idle": "2022-12-25T18:21:27.104756Z",
     "shell.execute_reply": "2022-12-25T18:21:27.103864Z"
    },
    "papermill": {
     "duration": 0.04833,
     "end_time": "2022-12-25T18:21:27.107366",
     "exception": false,
     "start_time": "2022-12-25T18:21:27.059036",
     "status": "completed"
    },
    "tags": []
   },
   "outputs": [],
   "source": [
    "if \"SALES_PREDICTED\" in X_test.columns:\n",
    "    X_test.drop(\"SALES_PREDICTED\", axis = 1, inplace = True)\n",
    "    \n",
    "Y_test_predict = model.predict(X_test)\n",
    "X_test[\"SALES_PREDICTED\"] = np.clip(Y_test_predict, 0, 30)"
   ]
  },
  {
   "cell_type": "code",
   "execution_count": 57,
   "id": "b4d4963a",
   "metadata": {
    "execution": {
     "iopub.execute_input": "2022-12-25T18:21:27.174612Z",
     "iopub.status.busy": "2022-12-25T18:21:27.173804Z",
     "iopub.status.idle": "2022-12-25T18:21:27.179603Z",
     "shell.execute_reply": "2022-12-25T18:21:27.178795Z"
    },
    "papermill": {
     "duration": 0.039447,
     "end_time": "2022-12-25T18:21:27.181796",
     "exception": false,
     "start_time": "2022-12-25T18:21:27.142349",
     "status": "completed"
    },
    "tags": []
   },
   "outputs": [],
   "source": [
    "X_test.reset_index(inplace = True)"
   ]
  },
  {
   "cell_type": "code",
   "execution_count": 58,
   "id": "f9bbf0d0",
   "metadata": {
    "execution": {
     "iopub.execute_input": "2022-12-25T18:21:27.243914Z",
     "iopub.status.busy": "2022-12-25T18:21:27.243464Z",
     "iopub.status.idle": "2022-12-25T18:21:27.253101Z",
     "shell.execute_reply": "2022-12-25T18:21:27.252130Z"
    },
    "papermill": {
     "duration": 0.043266,
     "end_time": "2022-12-25T18:21:27.255412",
     "exception": false,
     "start_time": "2022-12-25T18:21:27.212146",
     "status": "completed"
    },
    "tags": []
   },
   "outputs": [],
   "source": [
    "(\n",
    "    X_test[[\"UNIQUE_ID\", \"SALES_PREDICTED\"]]\n",
    "    .rename(columns = {\"UNIQUE_ID\":\"unique_id\", \"SALES_PREDICTED\":\"sales\"})\n",
    "    .to_csv(\"submission.csv\", index = False)\n",
    ")"
   ]
  },
  {
   "cell_type": "markdown",
   "id": "89c24bb3",
   "metadata": {
    "papermill": {
     "duration": 0.029508,
     "end_time": "2022-12-25T18:21:27.314971",
     "exception": false,
     "start_time": "2022-12-25T18:21:27.285463",
     "status": "completed"
    },
    "tags": []
   },
   "source": [
    "<a id='conclusion'></a>\n",
    "### Conclusión\n",
    "[Volver al índice](#index)<br>\n",
    "\n",
    "En este notebook hemos explorado la importancia en Machine Learning de utilizar un modelo benchmark cuando nos enfrentamos por primera vez a un nuevo dataset.\n",
    "\n",
    "Establecer el benchmark nos ayuda a entender cual es el punto de partida.\n",
    "\n",
    "Al entrenar un modelo, tenemos ya un notebook funcional que nos permite entrar en la siguiente loop:\n",
    "\n",
    "1. Hacer un poco más de EDA.\n",
    "2. Construir nuevas variables.\n",
    "3. Probar estas variables en el modelo.\n",
    "4. Guardar el score para ver la mejora o no (Kaggle Submit).\n",
    "5. Volver al punto 1.\n",
    "\n",
    "A continuación dejamos algunas ideas que los alumnos pueden implementar para mejorar el benchmark:\n",
    "\n",
    "1. Probad otras combinaciones de variables.\n",
    "2. Darle más profundidad a los lags/shifts.\n",
    "3. Implementar medias móviles (ojo variables autoexplicativas).\n",
    "4. Utilizar otras columnas en vez de MONTHLY_SALES para construir las variables.\n",
    "5. Añadir variables externas (relación rublo/dólar, festivos locales etc).\n",
    "6. Probar otros algoritmos.\n",
    "7. Tunnear los hiperparametros del modelo.\n",
    "\n",
    "### Happy Kaggling :)"
   ]
  },
  {
   "cell_type": "markdown",
   "id": "e5de64f5",
   "metadata": {
    "papermill": {
     "duration": 0.029443,
     "end_time": "2022-12-25T18:21:27.373965",
     "exception": false,
     "start_time": "2022-12-25T18:21:27.344522",
     "status": "completed"
    },
    "tags": []
   },
   "source": [
    "<a id='referencias'></a>\n",
    "### Referencias y lecturas recomendables\n",
    "[Volver al índice](#index)<br>\n",
    "\n",
    "A continuación dejamos algunos links útiles para profundizar en algunos de los conceptos que hemos visto en el notebook:"
   ]
  },
  {
   "cell_type": "markdown",
   "id": "73d6a2d6",
   "metadata": {
    "execution": {
     "iopub.execute_input": "2022-12-25T18:07:20.669652Z",
     "iopub.status.busy": "2022-12-25T18:07:20.669260Z",
     "iopub.status.idle": "2022-12-25T18:07:20.678128Z",
     "shell.execute_reply": "2022-12-25T18:07:20.675814Z",
     "shell.execute_reply.started": "2022-12-25T18:07:20.669622Z"
    },
    "papermill": {
     "duration": 0.029289,
     "end_time": "2022-12-25T18:21:27.432895",
     "exception": false,
     "start_time": "2022-12-25T18:21:27.403606",
     "status": "completed"
    },
    "tags": []
   },
   "source": [
    "[The importance of Benchmarking](https://blog.bigml.com/2020/03/20/machine-learning-benchmarking-youre-doing-it-wrong/)\n",
    "\n",
    "[Tree Based Models and Extrapolation (MUY RECOMENDABLE)](https://shanminlin.medium.com/how-to-help-tree-based-models-extrapolate-7954287b1219)\n",
    "\n",
    "[XGBoost](https://xgboost.readthedocs.io/en/stable/)"
   ]
  },
  {
   "cell_type": "code",
   "execution_count": null,
   "id": "c8c0db6e",
   "metadata": {
    "papermill": {
     "duration": 0.029463,
     "end_time": "2022-12-25T18:21:27.491994",
     "exception": false,
     "start_time": "2022-12-25T18:21:27.462531",
     "status": "completed"
    },
    "tags": []
   },
   "outputs": [],
   "source": []
  }
 ],
 "metadata": {
  "kernelspec": {
   "display_name": "Python 3",
   "language": "python",
   "name": "python3"
  },
  "language_info": {
   "codemirror_mode": {
    "name": "ipython",
    "version": 3
   },
   "file_extension": ".py",
   "mimetype": "text/x-python",
   "name": "python",
   "nbconvert_exporter": "python",
   "pygments_lexer": "ipython3",
   "version": "3.7.12"
  },
  "papermill": {
   "default_parameters": {},
   "duration": 23.57855,
   "end_time": "2022-12-25T18:21:28.344030",
   "environment_variables": {},
   "exception": null,
   "input_path": "__notebook__.ipynb",
   "output_path": "__notebook__.ipynb",
   "parameters": {},
   "start_time": "2022-12-25T18:21:04.765480",
   "version": "2.3.4"
  }
 },
 "nbformat": 4,
 "nbformat_minor": 5
}
